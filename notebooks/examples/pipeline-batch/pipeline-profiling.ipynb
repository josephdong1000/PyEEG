{
 "cells": [
  {
   "cell_type": "markdown",
   "metadata": {},
   "source": [
    "# Pipeline profiling\n"
   ]
  },
  {
   "cell_type": "code",
   "execution_count": null,
   "metadata": {},
   "outputs": [],
   "source": [
    "import sys\n",
    "sys.executable"
   ]
  },
  {
   "cell_type": "code",
   "execution_count": null,
   "metadata": {},
   "outputs": [],
   "source": [
    "import sys\n",
    "from pathlib import Path\n",
    "import tempfile\n",
    "import time\n",
    "import cProfile\n",
    "\n",
    "import dask\n",
    "from dask.distributed import Client, LocalCluster\n",
    "from dask_jobqueue.slurm import SLURMCluster\n",
    "\n",
    "packageroot = Path('/mnt/isilon/marsh_single_unit/PythonEEG')\n",
    "print(packageroot)\n",
    "sys.path.append(str(packageroot))\n",
    "\n",
    "from pythoneeg import core  # noqa: E402\n",
    "from pythoneeg import visualization  # noqa: E402\n",
    "from pythoneeg import constants  # noqa: E402\n"
   ]
  },
  {
   "cell_type": "code",
   "execution_count": null,
   "metadata": {},
   "outputs": [],
   "source": [
    "# cluster = SLURMCluster(cores=4, memory='20GB', walltime='48:00:00', local_directory='/scr1/users/dongjp')\n",
    "# cluster.scale(jobs=20)\n",
    "cluster = LocalCluster(n_workers=3, threads_per_worker=1)\n",
    "client = Client(cluster)\n",
    "client"
   ]
  },
  {
   "cell_type": "code",
   "execution_count": 8,
   "metadata": {},
   "outputs": [],
   "source": [
    "def main():\n",
    "\n",
    "    print(f\"\\n\\n\\tclient.dashboard_link: {client.dashboard_link}\\n\\n\")\n",
    "\n",
    "    tempfile.tempdir = '/scr1/users/dongjp'\n",
    "\n",
    "    base_folder = Path('/mnt/isilon/marsh_single_unit/PythonEEG Data Bins')\n",
    "    # output_folder = Path(__file__).parent.parent.resolve() / 'pipeline-wars'\n",
    "\n",
    "    animal_ids = ['A10 KO']\n",
    "\n",
    "    print(\"\\nStarting pipeline execution...\")\n",
    "    for animal_id in animal_ids:\n",
    "        print(f\"Processing {animal_id}\")\n",
    "        ao = visualization.AnimalOrganizer(base_folder, animal_id, mode=\"concat\", assume_from_number=True,\n",
    "                                           truncate=2)\n",
    "        ao.convert_colbins_to_rowbins()\n",
    "        ao.convert_rowbins_to_rec()\n",
    "\n",
    "        start_time = time.time()\n",
    "        war = ao.compute_windowed_analysis(['all'], exclude=['nspike', 'wavetemp'], multiprocess_mode='dask')\n",
    "        print(time.time() - start_time)\n",
    "        # war.to_pickle_and_json(output_folder / animal_id)\n",
    "\n"
   ]
  },
  {
   "cell_type": "code",
   "execution_count": null,
   "metadata": {},
   "outputs": [],
   "source": [
    "%prun main()"
   ]
  }
 ],
 "metadata": {
  "kernelspec": {
   "display_name": ".venv",
   "language": "python",
   "name": "python3"
  },
  "language_info": {
   "codemirror_mode": {
    "name": "ipython",
    "version": 3
   },
   "file_extension": ".py",
   "mimetype": "text/x-python",
   "name": "python",
   "nbconvert_exporter": "python",
   "pygments_lexer": "ipython3",
   "version": "3.10.8"
  }
 },
 "nbformat": 4,
 "nbformat_minor": 2
}

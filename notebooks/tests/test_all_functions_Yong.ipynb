{
 "cells": [
  {
   "cell_type": "markdown",
   "metadata": {},
   "source": [
    "# Function Testing Notebook\n",
    "\n",
    "This notebook is meant to test external-facing functions to ensure they are working as expected."
   ]
  },
  {
   "cell_type": "code",
   "execution_count": 23,
   "metadata": {},
   "outputs": [
    {
     "name": "stdout",
     "output_type": "stream",
     "text": [
      "/Users/ohy2/Documents/GitHubRepo/PyEEG\n"
     ]
    }
   ],
   "source": [
    "import sys\n",
    "from pathlib import Path\n",
    "import time\n",
    "import tempfile\n",
    "\n",
    "import numpy as np\n",
    "import matplotlib.pyplot as plt\n",
    "\n",
    "import pandas as pd\n",
    "import json\n",
    "\n",
    "packageroot = Path('../../').resolve()\n",
    "print(packageroot)\n",
    "sys.path.append(str(packageroot))\n"
   ]
  },
  {
   "cell_type": "code",
   "execution_count": 33,
   "metadata": {},
   "outputs": [
    {
     "name": "stdout",
     "output_type": "stream",
     "text": [
      "['DDFBinaryMetadata', 'LongRecordingOrganizer', 'convert_ddfcolbin_to_ddfrowbin', 'convert_ddfrowbin_to_si', 'convert_units_to_multiplier', 'convert_colpath_to_rowpath', 'filepath_to_index', 'is_day', 'LongRecordingAnalyzer', 'MountainSortOrganizer']\n"
     ]
    }
   ],
   "source": [
    "from pythoneeg import core\n",
    "from pythoneeg import visualization\n",
    "\n",
    "from pythoneeg.visualization import WindowAnalysisResult, AnimalOrganizer\n",
    "# from pythoneeg import constants\n",
    "\n",
    "print(core.__all__)\n",
    "# print(visualization.__all__)\n",
    "# print(dir(constants))"
   ]
  },
  {
   "cell_type": "code",
   "execution_count": 3,
   "metadata": {},
   "outputs": [],
   "source": [
    "tempfile.tempdir = '/scr1/users/dongjp'"
   ]
  },
  {
   "cell_type": "code",
   "execution_count": 7,
   "metadata": {},
   "outputs": [
    {
     "name": "stdout",
     "output_type": "stream",
     "text": [
      "Tue Dec 12 12:57:00 2023\n"
     ]
    },
    {
     "data": {
      "text/plain": [
       "['Intan Input (1)/PortB L Aud Ctx',\n",
       " 'Intan Input (1)/PortB L Vis Ctx',\n",
       " 'Intan Input (1)/PortB L Hipp',\n",
       " 'Intan Input (1)/PortB L Barrel',\n",
       " 'Intan Input (1)/PortB L Motor',\n",
       " 'Intan Input (1)/PortB R Motor',\n",
       " 'Intan Input (1)/PortB R Barrel',\n",
       " 'Intan Input (1)/PortB R Hipp',\n",
       " 'Intan Input (1)/PortB R Vis Ctx',\n",
       " 'Intan Input (1)/PortB R Aud Ctx']"
      ]
     },
     "metadata": {},
     "output_type": "display_data"
    }
   ],
   "source": [
    "tmpmet = core.DDFBinaryMetadata(r\"/Volumes/marsh_single_unit/PythonEEG Data Bins/A5 WT 12_12-2023/Cage 1 A5 -1_Meta.csv\")\n",
    "print(tmpmet.dt_end.ctime())\n",
    "display(tmpmet.channel_names)"
   ]
  },
  {
   "cell_type": "code",
   "execution_count": 10,
   "metadata": {},
   "outputs": [
    {
     "name": "stderr",
     "output_type": "stream",
     "text": [
      "/Users/ohy2/Documents/GitHubRepo/PyEEG/pythoneeg/core/core.py:168: UserWarning: truncate = True. Only the first 3 files of each animal will be used\n",
      "  warnings.warn(f\"truncate = True. Only the first {self.n_truncate} files of each animal will be used\")\n",
      "/Users/ohy2/Documents/GitHubRepo/PyEEG/pythoneeg/core/core.py:254: UserWarning: Row-major binary files already exist! Skipping existing files\n",
      "  warnings.warn(\"Row-major binary files already exist! Skipping existing files\")\n"
     ]
    },
    {
     "name": "stdout",
     "output_type": "stream",
     "text": [
      "Reading /Users/ohy2/Documents/GitHubRepo/PyEEG/notebooks/tests/test-data/A5 WT 12_12-2023/Cage 1 A5 -1_RowMajor.npy.gz\n",
      "Opening tempfile /var/folders/gz/c4v7tdb972v1l3clm5lpwwyszxhlcz/T/eda38debde95f1344278ea84f4c176ba36776830f13d7b3f\n",
      "Reading /Users/ohy2/Documents/GitHubRepo/PyEEG/notebooks/tests/test-data/A5 WT 12_12-2023/Cage 1 A5 -3_RowMajor.npy.gz\n",
      "Opening tempfile /var/folders/gz/c4v7tdb972v1l3clm5lpwwyszxhlcz/T/63be2113c7221b049bb65c011bc2793d723116c3570d5016\n",
      "Reading /Users/ohy2/Documents/GitHubRepo/PyEEG/notebooks/tests/test-data/A5 WT 12_12-2023/Cage 1 A5 -4_RowMajor.npy.gz\n",
      "Opening tempfile /var/folders/gz/c4v7tdb972v1l3clm5lpwwyszxhlcz/T/e22e2e07b04d5f08a2ba6578cc504ec3eb5183da74d83832\n"
     ]
    }
   ],
   "source": [
    "# Had to manually copy A5 WT 12_12-2023 folder from marsh_single_unit\n",
    "\n",
    "data_folder = Path('./test-data').resolve()\n",
    "lrec = core.LongRecordingOrganizer(base_folder_path= data_folder / 'A5 WT 12_12-2023',\n",
    "                                    truncate=3)\n",
    "lrec.convert_colbins_to_rowbins(overwrite=False)\n",
    "lrec.convert_rowbins_to_rec()"
   ]
  },
  {
   "cell_type": "code",
   "execution_count": 11,
   "metadata": {},
   "outputs": [
    {
     "data": {
      "image/png": "[encoded data removed]",
      "text/plain": [
       "<Figure size 640x480 with 1 Axes>"
      ]
     },
     "metadata": {},
     "output_type": "display_data"
    }
   ],
   "source": [
    "lan = core.LongRecordingAnalyzer(lrec, 10)\n",
    "\n",
    "lan.setup_njobs()\n",
    "mags = []\n",
    "phases = []\n",
    "\n",
    "for i in range(lan.n_fragments // 100):\n",
    "    if i == 20:\n",
    "        break\n",
    "    t = time.process_time()\n",
    "\n",
    "    # lan.compute_nspike(i)\n",
    "    # csd = lan.compute_csd(i)\n",
    "    # plt.imshow(csd['alpha'])\n",
    "\n",
    "    coh = lan.compute_cohere(i)\n",
    "    plt.imshow(coh['gamma'])\n",
    "\n",
    "    pcorr = lan.compute_pcorr(i)\n",
    "    plt.imshow(pcorr)\n",
    "\n",
    "    # cacoh = lan.compute_cacoh(i)\n",
    "    # plt.imshow(cacoh[0])\n",
    "\n",
    "    # cacoh = lan.compute_cacoh(i, freq_res=1, indices=([[0,1,2,3]], [[4,5,6,7]]))\n",
    "    # mags.append(cacoh[0])\n",
    "    # phases.append(cacoh[1])\n",
    "\n",
    "\n",
    "    # fig, ax = plt.subplots(1, 2, figsize=(6, 3))\n",
    "    # ax[0].imshow(corr)\n",
    "    # ax[1].imshow(pcorr)\n",
    "    # plt.show()\n",
    "\n",
    "    \n",
    "# _, ax = plt.subplots(1, 2, figsize=(8, 2), sharex=True)\n",
    "# mags = np.stack(mags, axis=-1).mean(axis=-1)\n",
    "# phases = np.stack(phases, axis=-1).mean(axis=-1)\n",
    "# ax[0].semilogx(cacoh[2], mags.transpose())\n",
    "# ax[1].semilogx(cacoh[2], phases.transpose(), c='C1')\n",
    "# ax[0].set_title(\"Magnitude\")\n",
    "# ax[1].set_title(\"Phase\")\n",
    "# plt.show()\n"
   ]
  },
  {
   "cell_type": "code",
   "execution_count": 16,
   "metadata": {},
   "outputs": [
    {
     "data": {
      "text/plain": [
       "PosixPath('/Users/ohy2/Documents/GitHubRepo/PyEEG/notebooks/tests/test-data')"
      ]
     },
     "execution_count": 16,
     "metadata": {},
     "output_type": "execute_result"
    }
   ],
   "source": [
    "base_folder"
   ]
  },
  {
   "cell_type": "code",
   "execution_count": 20,
   "metadata": {},
   "outputs": [
    {
     "name": "stderr",
     "output_type": "stream",
     "text": [
      "/Users/ohy2/Documents/GitHubRepo/PyEEG/pythoneeg/core/core.py:168: UserWarning: truncate = True. Only the first 5 files of each animal will be used\n",
      "  warnings.warn(f\"truncate = True. Only the first {self.n_truncate} files of each animal will be used\")\n",
      "/Users/ohy2/Documents/GitHubRepo/PyEEG/pythoneeg/core/core.py:254: UserWarning: Row-major binary files already exist! Skipping existing files\n",
      "  warnings.warn(\"Row-major binary files already exist! Skipping existing files\")\n"
     ]
    },
    {
     "name": "stdout",
     "output_type": "stream",
     "text": [
      "Reading /Users/ohy2/Documents/GitHubRepo/PyEEG/notebooks/tests/test-data/A5 WT 12_12-2023/Cage 1 A5 -1_RowMajor.npy.gz\n",
      "Opening tempfile /var/folders/gz/c4v7tdb972v1l3clm5lpwwyszxhlcz/T/bc1117dd06da11b012fcd3e7c19291347bc57d6b71dc4067\n",
      "Reading /Users/ohy2/Documents/GitHubRepo/PyEEG/notebooks/tests/test-data/A5 WT 12_12-2023/Cage 1 A5 -3_RowMajor.npy.gz\n",
      "Opening tempfile /var/folders/gz/c4v7tdb972v1l3clm5lpwwyszxhlcz/T/a574507024352724bc49c66b64c39787efad74c61a8558db\n",
      "Reading /Users/ohy2/Documents/GitHubRepo/PyEEG/notebooks/tests/test-data/A5 WT 12_12-2023/Cage 1 A5 -4_RowMajor.npy.gz\n",
      "Opening tempfile /var/folders/gz/c4v7tdb972v1l3clm5lpwwyszxhlcz/T/ed4e23bb0565b27498fa6efd6fc296fe6e395941f0884cb9\n",
      "Reading /Users/ohy2/Documents/GitHubRepo/PyEEG/notebooks/tests/test-data/A5 WT 12_12-2023/Cage 1 A5 -5_RowMajor.npy.gz\n",
      "Opening tempfile /var/folders/gz/c4v7tdb972v1l3clm5lpwwyszxhlcz/T/ab36446c8d1ab0e61eac437c7fbe378e17c8e884ecf270d9\n",
      "Reading /Users/ohy2/Documents/GitHubRepo/PyEEG/notebooks/tests/test-data/A5 WT 12_12-2023/Cage 1 A5 -6_RowMajor.npy.gz\n",
      "Opening tempfile /var/folders/gz/c4v7tdb972v1l3clm5lpwwyszxhlcz/T/c24d30fb09e748dd70a3d90123bb0becce442eca58925b42\n"
     ]
    },
    {
     "name": "stderr",
     "output_type": "stream",
     "text": [
      "Processing rows: 100%|██████████| 1917/1917 [01:25<00:00, 22.39it/s]\n"
     ]
    }
   ],
   "source": [
    "# %%script true\n",
    "base_folder = Path('./test-data').resolve()\n",
    "ao = visualization.AnimalOrganizer(base_folder, \"A5\", mode=\"concat\", truncate=5)\n",
    "ao.convert_colbins_to_rowbins(overwrite=False)\n",
    "ao.convert_rowbins_to_rec()\n",
    "\n",
    "war = ao.compute_windowed_analysis(['all'], exclude=['nspike', 'wavetemp'], multiprocess_mode='dask')\n",
    "\n",
    "outPath = Path('./test-wars').resolve()\n",
    "outPath.mkdir(parents=True, exist_ok=True)\n",
    "\n",
    "war.to_pickle_and_json(Path('./test-wars').resolve())\n",
    "# result = ao.compute_windowed_analysis(['cohere', 'pcorr']) # nspike needs work\n",
    "# result = ao.compute_windowed_analysis(['nspike', 'wavetemp']) # nspike needs work\n",
    "# result = ao.compute_windowed_analysis(['psd', 'cohere'], welch_bin_t=2, magnitude=False)"
   ]
  },
  {
   "cell_type": "code",
   "execution_count": null,
   "metadata": {},
   "outputs": [],
   "source": [
    "war.get_result(['all'], allow_missing=True)"
   ]
  },
  {
   "cell_type": "code",
   "execution_count": null,
   "metadata": {},
   "outputs": [],
   "source": [
    "ap = visualization.AnimalPlotter(war)\n",
    "ap.plot_coherecorr_matrix(['isday'], bands=None, figsize=(16,5), cmap='viridis')\n",
    "ap.plot_coherecorr_diff(['isday'], bands=None, figsize=(16,5))\n",
    "# ap.plot_linear_temporal(figsize=(20, 5), score_type='z', lw=1, channels=[0, 1])\n",
    "ap.plot_linear_temporal(['isday'], afigsize=(20, 5), score_type='z', lw=1, channels=[0, 1, 2, 3])\n",
    "\n",
    "# ap.plot_coherecorr_spectral(figsize=(20, 5), score_type='center')\n",
    "ap.plot_coherecorr_spectral(['isday'], figsize=(20, 5), score_type='center')"
   ]
  },
  {
   "cell_type": "code",
   "execution_count": 27,
   "metadata": {},
   "outputs": [
    {
     "name": "stderr",
     "output_type": "stream",
     "text": [
      "/Users/ohy2/Documents/GitHubRepo/PyEEG/pythoneeg/core/core.py:254: UserWarning: Row-major binary files already exist! Skipping existing files\n",
      "  warnings.warn(\"Row-major binary files already exist! Skipping existing files\")\n",
      "/Users/ohy2/Documents/GitHubRepo/PyEEG/pythoneeg/core/core.py:254: UserWarning: Row-major binary files already exist! Skipping existing files\n",
      "  warnings.warn(\"Row-major binary files already exist! Skipping existing files\")\n",
      "/Users/ohy2/Documents/GitHubRepo/PyEEG/pythoneeg/core/core.py:254: UserWarning: Row-major binary files already exist! Skipping existing files\n",
      "  warnings.warn(\"Row-major binary files already exist! Skipping existing files\")\n"
     ]
    },
    {
     "name": "stdout",
     "output_type": "stream",
     "text": [
      "Reading /Volumes/marsh_single_unit/PythonEEG Data Bins/A10 KO 12_15_2023/Cage 2 A10-4_RowMajor.npy.gz\n",
      "Opening tempfile /var/folders/gz/c4v7tdb972v1l3clm5lpwwyszxhlcz/T/46151e2b06ae068c63e68eb4728bd38c86994883f8ee5ff9\n",
      "Reading /Volumes/marsh_single_unit/PythonEEG Data Bins/A10 KO 12_15_2023/Cage 2 A10-5_RowMajor.npy.gz\n",
      "Opening tempfile /var/folders/gz/c4v7tdb972v1l3clm5lpwwyszxhlcz/T/afd5f95a91db58c03f24439c48d553f84ad3d484bc407ea8\n",
      "Reading /Volumes/marsh_single_unit/PythonEEG Data Bins/A10 KO 12_15_2023/Cage 2 A10-6_RowMajor.npy.gz\n",
      "Opening tempfile /var/folders/gz/c4v7tdb972v1l3clm5lpwwyszxhlcz/T/683acf8cdb5067aeeed9dc455bcf32ec3be11765e185e3da\n",
      "Reading /Volumes/marsh_single_unit/PythonEEG Data Bins/A10 KO 12_15_2023/Cage 2 A10-7_RowMajor.npy.gz\n",
      "Opening tempfile /var/folders/gz/c4v7tdb972v1l3clm5lpwwyszxhlcz/T/d9c9d870f9b005f367cc8cb4931ab6e347368200fcc133ce\n",
      "Reading /Volumes/marsh_single_unit/PythonEEG Data Bins/A10 KO 12_14_2023/Cage 2 A10-1_RowMajor.npy.gz\n",
      "Opening tempfile /var/folders/gz/c4v7tdb972v1l3clm5lpwwyszxhlcz/T/7c5e38d8ca6c7569dbc894e137e2af496dab8ed141dcf739\n",
      "Reading /Volumes/marsh_single_unit/PythonEEG Data Bins/A10 KO 12_14_2023/Cage 2 A10-2_RowMajor.npy.gz\n",
      "Opening tempfile /var/folders/gz/c4v7tdb972v1l3clm5lpwwyszxhlcz/T/1b4bc1112d75bfb73ec810c5ea582afb6bfd5f67b88a7398\n",
      "Reading /Volumes/marsh_single_unit/PythonEEG Data Bins/A10 KO 12_14_2023/Cage 2 A10-3_RowMajor.npy.gz\n",
      "Opening tempfile /var/folders/gz/c4v7tdb972v1l3clm5lpwwyszxhlcz/T/7d8ec9643c26b3b46d0c78d71f9db1ced4e79866e56c8c3b\n",
      "Reading /Volumes/marsh_single_unit/PythonEEG Data Bins/A10 KO 12_13_2023/Cage 2 A10-0_RowMajor.npy.gz\n",
      "Opening tempfile /var/folders/gz/c4v7tdb972v1l3clm5lpwwyszxhlcz/T/e45c7227062ddf1d3053494be48a259dde05a99cefbc800e\n"
     ]
    },
    {
     "name": "stderr",
     "output_type": "stream",
     "text": [
      "Processing rows: 100%|██████████| 26403/26403 [20:43<00:00, 21.24it/s]\n",
      "Processing rows: 100%|██████████| 20975/20975 [18:03<00:00, 19.37it/s]\n",
      "Processing rows: 100%|██████████| 31/31 [00:01<00:00, 19.67it/s]\n",
      "/Users/ohy2/Documents/GitHubRepo/PyEEG/pythoneeg/visualization/results.py:263: FutureWarning: The behavior of DataFrame concatenation with empty or all-NA entries is deprecated. In a future version, this will no longer exclude empty or all-NA columns when determining the result dtypes. To retain the old behavior, exclude the relevant entries before the concat operation.\n",
      "  self.features_df = pd.concat(dataframes)\n"
     ]
    },
    {
     "name": "stdout",
     "output_type": "stream",
     "text": [
      "ERROR: 'str' object has no attribute '_accessor'\n"
     ]
    }
   ],
   "source": [
    "animids = ['A10 KO']\n",
    "wars = []\n",
    "\n",
    "for animid in animids:\n",
    "    ao = AnimalOrganizer(r\"/Volumes/marsh_single_unit/PythonEEG Data Bins\", animid, mode=\"concat\")\n",
    "    ao.convert_colbins_to_rowbins(overwrite=False)\n",
    "    ao.convert_rowbins_to_rec()\n",
    "    war = ao.compute_windowed_analysis(['all'], exclude=['nspike', 'wavetemp'])\n",
    "    war.to_pickle_and_json(r'/Users/ohy2/Documents/GitHubRepo/PyEEG/notebooks/tests/test-wars')\n",
    "    wars.append(war)\n",
    "    try:\n",
    "        ao.cleanup_rec()\n",
    "    except Exception as e:\n",
    "        print(f\"ERROR: {e}\")"
   ]
  },
  {
   "cell_type": "code",
   "execution_count": 29,
   "metadata": {},
   "outputs": [],
   "source": [
    "# Load Window Analysis Results from files\n",
    "# warnames = ['WT-A5', 'KO-F22', 'KO-A10', 'WT-G25', 'WT-N21', 'WT-G26']\n",
    "warnames = ['KO-A10', 'WT-A5']\n",
    "# warnames = ['WT-G26', 'WT-N21']\n",
    "# warnames = ['WT-N23', 'WT-N25']\n",
    "reconstruct_war:list[WindowAnalysisResult] = []\n",
    "# del war\n",
    "for i,warname in enumerate(warnames):\n",
    "    # with open(rf\"Z:\\PythonEEG\\analysis\\{warname}.json\", 'r') as f:\n",
    "    with open(rf\"/Users/ohy2/Documents/GitHubRepo/PyEEG/notebooks/tests/test-wars/{warname}.json\", 'r') as f:\n",
    "        ch_names = json.load(f)\n",
    "        war = WindowAnalysisResult(pd.read_pickle(rf\"/Users/ohy2/Documents/GitHubRepo/PyEEG/notebooks/tests/test-wars/{warname}.pkl\"), channel_names=ch_names)\n",
    "        # war = WindowAnalysisResult(pd.read_pickle(rf\"/Users/ohy2/Documents/GitHubRepo/PyEEG/notebooks/tests/test-wars/{warname}.pkl\"), genotype='WT', channel_names=ch_names)\n",
    "\n",
    "    \n",
    "    # war.filter_bad_channel_fragments() # Filtering can be done after the fact\n",
    "    reconstruct_war.append(war)"
   ]
  },
  {
   "cell_type": "code",
   "execution_count": 35,
   "metadata": {},
   "outputs": [
    {
     "ename": "AttributeError",
     "evalue": "'WindowAnalysisResult' object has no attribute 'get_info'",
     "output_type": "error",
     "traceback": [
      "\u001b[0;31m---------------------------------------------------------------------------\u001b[0m",
      "\u001b[0;31mAttributeError\u001b[0m                            Traceback (most recent call last)",
      "Cell \u001b[0;32mIn[35], line 3\u001b[0m\n\u001b[1;32m      1\u001b[0m test \u001b[38;5;241m=\u001b[39m reconstruct_war[\u001b[38;5;241m0\u001b[39m]\n\u001b[0;32m----> 3\u001b[0m \u001b[38;5;28mprint\u001b[39m(\u001b[43mtest\u001b[49m\u001b[38;5;241;43m.\u001b[39;49m\u001b[43mget_info\u001b[49m())\n",
      "\u001b[0;31mAttributeError\u001b[0m: 'WindowAnalysisResult' object has no attribute 'get_info'"
     ]
    }
   ],
   "source": [
    "test = reconstruct_war[0]\n",
    "\n",
    "print(test.get_info())"
   ]
  }
 ],
 "metadata": {
  "kernelspec": {
   "display_name": ".venv_mouseEEG",
   "language": "python",
   "name": "python3"
  },
  "language_info": {
   "codemirror_mode": {
    "name": "ipython",
    "version": 3
   },
   "file_extension": ".py",
   "mimetype": "text/x-python",
   "name": "python",
   "nbconvert_exporter": "python",
   "pygments_lexer": "ipython3",
   "version": "3.10.16"
  }
 },
 "nbformat": 4,
 "nbformat_minor": 2
}

{
 "cells": [
  {
   "cell_type": "markdown",
   "metadata": {},
   "source": [
    "# Function Testing Notebook - Joseph\n",
    "\n",
    "This notebook is meant to test external-facing functions to ensure they are working as expected.\n",
    "\n",
    "A dedicated test_all_functions.py with unit testing might be better, but this is a good benchmark"
   ]
  },
  {
   "cell_type": "code",
   "execution_count": 1,
   "metadata": {},
   "outputs": [
    {
     "name": "stderr",
     "output_type": "stream",
     "text": [
      "/mnt/isilon/marsh_single_unit/PythonEEG/.venv/lib/python3.10/site-packages/tqdm/auto.py:21: TqdmWarning: IProgress not found. Please update jupyter and ipywidgets. See https://ipywidgets.readthedocs.io/en/stable/user_install.html\n",
      "  from .autonotebook import tqdm as notebook_tqdm\n"
     ]
    }
   ],
   "source": [
    "import logging\n",
    "import os\n",
    "import sys\n",
    "from pathlib import Path\n",
    "import json\n",
    "\n",
    "import matplotlib.colors as colors\n",
    "import matplotlib.pyplot as plt\n",
    "import numpy as np\n",
    "import pandas as pd\n",
    "from okabeito import black, blue, green, lightblue, orange, purple, red, yellow\n",
    "from seaborn import axes_style\n",
    "\n",
    "from pythoneeg import constants, core, visualization\n"
   ]
  },
  {
   "cell_type": "code",
   "execution_count": 2,
   "metadata": {},
   "outputs": [
    {
     "name": "stdout",
     "output_type": "stream",
     "text": [
      "/mnt/isilon/marsh_single_unit/PythonEEG/tmp\n"
     ]
    }
   ],
   "source": [
    "tempdir = Path('../../tmp').resolve()\n",
    "core.set_temp_directory(tempdir)\n",
    "print(tempdir)"
   ]
  },
  {
   "cell_type": "code",
   "execution_count": 3,
   "metadata": {},
   "outputs": [],
   "source": [
    "# Set up logger with detailed formatting\n",
    "logging.basicConfig(format='%(asctime)s - %(levelname)s - %(message)s', level=logging.INFO, stream=sys.stdout, force=True)\n",
    "logger = logging.getLogger()\n"
   ]
  },
  {
   "cell_type": "code",
   "execution_count": 4,
   "metadata": {},
   "outputs": [
    {
     "data": {
      "text/html": [
       "<div>\n",
       "<style scoped>\n",
       "    .dataframe tbody tr th:only-of-type {\n",
       "        vertical-align: middle;\n",
       "    }\n",
       "\n",
       "    .dataframe tbody tr th {\n",
       "        vertical-align: top;\n",
       "    }\n",
       "\n",
       "    .dataframe thead th {\n",
       "        text-align: right;\n",
       "    }\n",
       "</style>\n",
       "<table border=\"1\" class=\"dataframe\">\n",
       "  <thead>\n",
       "    <tr style=\"text-align: right;\">\n",
       "      <th></th>\n",
       "      <th>animal</th>\n",
       "      <th>genotype</th>\n",
       "      <th>animalday</th>\n",
       "      <th>n_bad</th>\n",
       "      <th>keep?</th>\n",
       "      <th>comments</th>\n",
       "    </tr>\n",
       "  </thead>\n",
       "  <tbody>\n",
       "    <tr>\n",
       "      <th>50</th>\n",
       "      <td>032221_cohort 2, Group 3, Mouse 6 Cage 2A Re-...</td>\n",
       "      <td>FHet</td>\n",
       "      <td>032221_cohort 2, Group 3, Mouse 6 Cage 2A Re-R...</td>\n",
       "      <td>0</td>\n",
       "      <td>None</td>\n",
       "      <td>None</td>\n",
       "    </tr>\n",
       "    <tr>\n",
       "      <th>52</th>\n",
       "      <td>032221_cohort 2, Group 3, Mouse 6 Cage 2A Re-...</td>\n",
       "      <td>FHet</td>\n",
       "      <td>032221_cohort 2, Group 3, Mouse 6 Cage 2A Re-R...</td>\n",
       "      <td>0</td>\n",
       "      <td>None</td>\n",
       "      <td>None</td>\n",
       "    </tr>\n",
       "    <tr>\n",
       "      <th>51</th>\n",
       "      <td>032221_cohort 2, Group 3, Mouse 6 Cage 2A Re-...</td>\n",
       "      <td>FHet</td>\n",
       "      <td>032221_cohort 2, Group 3, Mouse 6 Cage 2A Re-R...</td>\n",
       "      <td>0</td>\n",
       "      <td>None</td>\n",
       "      <td>None</td>\n",
       "    </tr>\n",
       "    <tr>\n",
       "      <th>49</th>\n",
       "      <td>032221_cohort 2, Group 3, Mouse 6 Cage 2A Re-...</td>\n",
       "      <td>FHet</td>\n",
       "      <td>032221_cohort 2, Group 3, Mouse 6 Cage 2A Re-R...</td>\n",
       "      <td>0</td>\n",
       "      <td>None</td>\n",
       "      <td>None</td>\n",
       "    </tr>\n",
       "    <tr>\n",
       "      <th>105</th>\n",
       "      <td>040221_Group 1 Mouse 9 Recording</td>\n",
       "      <td>FMut</td>\n",
       "      <td>040221_Group 1 Mouse 9 Recording FMut Apr-02-2021</td>\n",
       "      <td>0</td>\n",
       "      <td>None</td>\n",
       "      <td>None</td>\n",
       "    </tr>\n",
       "    <tr>\n",
       "      <th>...</th>\n",
       "      <td>...</td>\n",
       "      <td>...</td>\n",
       "      <td>...</td>\n",
       "      <td>...</td>\n",
       "      <td>...</td>\n",
       "      <td>...</td>\n",
       "    </tr>\n",
       "    <tr>\n",
       "      <th>97</th>\n",
       "      <td>121821_cohort4_Group1_2mice M2</td>\n",
       "      <td>Unknown</td>\n",
       "      <td>M2 Unknown Dec-21-2021</td>\n",
       "      <td>0</td>\n",
       "      <td>None</td>\n",
       "      <td>None</td>\n",
       "    </tr>\n",
       "    <tr>\n",
       "      <th>85</th>\n",
       "      <td>121821_cohort4_Group1_2mice M4</td>\n",
       "      <td>Unknown</td>\n",
       "      <td>M4 Unknown Dec-18-2021</td>\n",
       "      <td>0</td>\n",
       "      <td>None</td>\n",
       "      <td>None</td>\n",
       "    </tr>\n",
       "    <tr>\n",
       "      <th>84</th>\n",
       "      <td>121821_cohort4_Group1_2mice M4</td>\n",
       "      <td>Unknown</td>\n",
       "      <td>M4 Unknown Dec-19-2021</td>\n",
       "      <td>0</td>\n",
       "      <td>None</td>\n",
       "      <td>None</td>\n",
       "    </tr>\n",
       "    <tr>\n",
       "      <th>83</th>\n",
       "      <td>121821_cohort4_Group1_2mice M4</td>\n",
       "      <td>Unknown</td>\n",
       "      <td>M4 Unknown Dec-20-2021</td>\n",
       "      <td>2</td>\n",
       "      <td>None</td>\n",
       "      <td>None</td>\n",
       "    </tr>\n",
       "    <tr>\n",
       "      <th>82</th>\n",
       "      <td>121821_cohort4_Group1_2mice M4</td>\n",
       "      <td>Unknown</td>\n",
       "      <td>M4 Unknown Dec-21-2021</td>\n",
       "      <td>2</td>\n",
       "      <td>None</td>\n",
       "      <td>None</td>\n",
       "    </tr>\n",
       "  </tbody>\n",
       "</table>\n",
       "<p>239 rows × 6 columns</p>\n",
       "</div>"
      ],
      "text/plain": [
       "                                                animal genotype  \\\n",
       "50    032221_cohort 2, Group 3, Mouse 6 Cage 2A Re-...     FHet   \n",
       "52    032221_cohort 2, Group 3, Mouse 6 Cage 2A Re-...     FHet   \n",
       "51    032221_cohort 2, Group 3, Mouse 6 Cage 2A Re-...     FHet   \n",
       "49    032221_cohort 2, Group 3, Mouse 6 Cage 2A Re-...     FHet   \n",
       "105                   040221_Group 1 Mouse 9 Recording     FMut   \n",
       "..                                                 ...      ...   \n",
       "97                      121821_cohort4_Group1_2mice M2  Unknown   \n",
       "85                      121821_cohort4_Group1_2mice M4  Unknown   \n",
       "84                      121821_cohort4_Group1_2mice M4  Unknown   \n",
       "83                      121821_cohort4_Group1_2mice M4  Unknown   \n",
       "82                      121821_cohort4_Group1_2mice M4  Unknown   \n",
       "\n",
       "                                             animalday  n_bad keep? comments  \n",
       "50   032221_cohort 2, Group 3, Mouse 6 Cage 2A Re-R...      0  None     None  \n",
       "52   032221_cohort 2, Group 3, Mouse 6 Cage 2A Re-R...      0  None     None  \n",
       "51   032221_cohort 2, Group 3, Mouse 6 Cage 2A Re-R...      0  None     None  \n",
       "49   032221_cohort 2, Group 3, Mouse 6 Cage 2A Re-R...      0  None     None  \n",
       "105  040221_Group 1 Mouse 9 Recording FMut Apr-02-2021      0  None     None  \n",
       "..                                                 ...    ...   ...      ...  \n",
       "97                              M2 Unknown Dec-21-2021      0  None     None  \n",
       "85                              M4 Unknown Dec-18-2021      0  None     None  \n",
       "84                              M4 Unknown Dec-19-2021      0  None     None  \n",
       "83                              M4 Unknown Dec-20-2021      2  None     None  \n",
       "82                              M4 Unknown Dec-21-2021      2  None     None  \n",
       "\n",
       "[239 rows x 6 columns]"
      ]
     },
     "metadata": {},
     "output_type": "display_data"
    }
   ],
   "source": [
    "logger.setLevel(logging.INFO)\n",
    "wars = []\n",
    "\n",
    "animal_ids = [p for p in Path(\"./test-wars-sox5-7\").glob(\"*\") if p.is_dir()]\n",
    "# bad_animal_ids = [\n",
    "#     \"013122_cohort4_group7_2mice both_FHET FHET(2)\",\n",
    "#     \"012322_cohort4_group6_3mice_FMUT___MMUT_MWT MHET\",\n",
    "#     \"012322_cohort4_group6_3mice_FMUT___MMUT_MWT MMUT\",\n",
    "#     \"011622_cohort4_group4_3mice_MMutOLD_FMUT_FMUT_FWT OLDMMT\",\n",
    "#     \"011322_cohort4_group3_4mice_AllM_MT_WT_HET_WT M3\",\n",
    "#     \"012322_cohort4_group6_3mice_FMUT___MMUT_MWT FHET\"\n",
    "#     # \"060921_Cohort 3_EM1_AM2_GF4 AM2\" # this seems fine just very high delta for whatever reason\n",
    "# ]\n",
    "\n",
    "# Create empty lists to store data\n",
    "df = []\n",
    "\n",
    "for i, animal_id in enumerate(animal_ids):\n",
    "    json_files = list(Path(animal_id).glob('*.json'))\n",
    "    if len(json_files) > 1:\n",
    "        print(f\"Multiple json files found for {animal_id}\")\n",
    "        break\n",
    "    json_file = json_files[0]\n",
    "\n",
    "    # Load the JSON file\n",
    "    with open(json_file, 'r') as f:\n",
    "        jsonfile = json.load(f)\n",
    "        data = jsonfile['bad_channels_dict']\n",
    "        for day in data.keys():\n",
    "            df.append({\"animal\" : animal_id.name, 'genotype' : jsonfile['genotype'], 'animalday' : day, 'n_bad' : len(data[day]), 'keep?' : None, \"comments\" : None})\n",
    "\n",
    "# Create dataframe\n",
    "df = pd.DataFrame(df)\n",
    "df = df.sort_values(['animal', 'animalday'])\n",
    "display(df)\n"
   ]
  },
  {
   "cell_type": "code",
   "execution_count": 5,
   "metadata": {},
   "outputs": [
    {
     "data": {
      "text/plain": [
       "70"
      ]
     },
     "execution_count": 5,
     "metadata": {},
     "output_type": "execute_result"
    }
   ],
   "source": [
    "len(df['animal'].unique())"
   ]
  },
  {
   "cell_type": "code",
   "execution_count": 6,
   "metadata": {},
   "outputs": [
    {
     "data": {
      "text/plain": [
       "PosixPath('/home/dongjp/Downloads/8-4 fine filtering')"
      ]
     },
     "metadata": {},
     "output_type": "display_data"
    }
   ],
   "source": [
    "save_folder = '/home/dongjp/Downloads/8-4 fine filtering'\n",
    "save_files = True\n",
    "save_folder = Path(save_folder)\n",
    "if not os.path.exists(save_folder):\n",
    "    os.makedirs(save_folder)\n",
    "display(save_folder)"
   ]
  },
  {
   "cell_type": "code",
   "execution_count": 7,
   "metadata": {},
   "outputs": [],
   "source": [
    "df.to_excel(save_folder / f'{save_folder.name}.xlsx', index=False)"
   ]
  }
 ],
 "metadata": {
  "kernelspec": {
   "display_name": ".venv",
   "language": "python",
   "name": "python3"
  },
  "language_info": {
   "codemirror_mode": {
    "name": "ipython",
    "version": 3
   },
   "file_extension": ".py",
   "mimetype": "text/x-python",
   "name": "python",
   "nbconvert_exporter": "python",
   "pygments_lexer": "ipython3",
   "version": "3.10.8"
  }
 },
 "nbformat": 4,
 "nbformat_minor": 4
}

{
 "cells": [
  {
   "cell_type": "markdown",
   "metadata": {},
   "source": [
    "# Function Testing Notebook - Joseph\n",
    "\n",
    "This notebook is meant to test external-facing functions to ensure they are working as expected.\n",
    "\n",
    "A dedicated test_all_functions.py with unit testing might be better, but this is a good benchmark"
   ]
  },
  {
   "cell_type": "code",
   "execution_count": 9,
   "metadata": {},
   "outputs": [],
   "source": [
    "import logging\n",
    "import os\n",
    "import sys\n",
    "from pathlib import Path\n",
    "import json\n",
    "\n",
    "import matplotlib.colors as colors\n",
    "import matplotlib.pyplot as plt\n",
    "import numpy as np\n",
    "import pandas as pd\n",
    "from okabeito import black, blue, green, lightblue, orange, purple, red, yellow\n",
    "from seaborn import axes_style\n",
    "\n",
    "from pythoneeg import constants, core, visualization\n"
   ]
  },
  {
   "cell_type": "code",
   "execution_count": 10,
   "metadata": {},
   "outputs": [
    {
     "name": "stdout",
     "output_type": "stream",
     "text": [
      "2025-08-04 14:34:08,573 - INFO - Temporary directory set to /mnt/isilon/marsh_single_unit/PythonEEG/tmp\n",
      "/mnt/isilon/marsh_single_unit/PythonEEG/tmp\n"
     ]
    }
   ],
   "source": [
    "tempdir = Path('../../tmp').resolve()\n",
    "core.set_temp_directory(tempdir)\n",
    "print(tempdir)"
   ]
  },
  {
   "cell_type": "code",
   "execution_count": 11,
   "metadata": {},
   "outputs": [],
   "source": [
    "# Set up logger with detailed formatting\n",
    "logging.basicConfig(format='%(asctime)s - %(levelname)s - %(message)s', level=logging.INFO, stream=sys.stdout, force=True)\n",
    "logger = logging.getLogger()\n"
   ]
  },
  {
   "cell_type": "code",
   "execution_count": 12,
   "metadata": {},
   "outputs": [
    {
     "data": {
      "text/html": [
       "<div>\n",
       "<style scoped>\n",
       "    .dataframe tbody tr th:only-of-type {\n",
       "        vertical-align: middle;\n",
       "    }\n",
       "\n",
       "    .dataframe tbody tr th {\n",
       "        vertical-align: top;\n",
       "    }\n",
       "\n",
       "    .dataframe thead th {\n",
       "        text-align: right;\n",
       "    }\n",
       "</style>\n",
       "<table border=\"1\" class=\"dataframe\">\n",
       "  <thead>\n",
       "    <tr style=\"text-align: right;\">\n",
       "      <th></th>\n",
       "      <th>animal</th>\n",
       "      <th>animalday</th>\n",
       "    </tr>\n",
       "  </thead>\n",
       "  <tbody>\n",
       "    <tr>\n",
       "      <th>0</th>\n",
       "      <td>071321_Cohort 3_AM4_CF1_DF3_FF6 DF3</td>\n",
       "      <td>DF3 FWT Jul-15-2021</td>\n",
       "    </tr>\n",
       "    <tr>\n",
       "      <th>1</th>\n",
       "      <td>071321_Cohort 3_AM4_CF1_DF3_FF6 DF3</td>\n",
       "      <td>DF3 FWT Jul-13-2021</td>\n",
       "    </tr>\n",
       "    <tr>\n",
       "      <th>2</th>\n",
       "      <td>071321_Cohort 3_AM4_CF1_DF3_FF6 DF3</td>\n",
       "      <td>DF3 FWT Jul-14-2021</td>\n",
       "    </tr>\n",
       "    <tr>\n",
       "      <th>3</th>\n",
       "      <td>071321_Cohort 3_AM4_CF1_DF3_FF6 DF3</td>\n",
       "      <td>DF3 FWT Jul-16-2021</td>\n",
       "    </tr>\n",
       "    <tr>\n",
       "      <th>4</th>\n",
       "      <td>031722_cohort_6_group1_3mice_MMUT_MMUT_MWT M7</td>\n",
       "      <td>M7 MWT Mar-20-2022</td>\n",
       "    </tr>\n",
       "    <tr>\n",
       "      <th>...</th>\n",
       "      <td>...</td>\n",
       "      <td>...</td>\n",
       "    </tr>\n",
       "    <tr>\n",
       "      <th>234</th>\n",
       "      <td>031722_cohort_6_group1_3mice_MMUT_MMUT_MWT MMU...</td>\n",
       "      <td>MMUT(1) MMut Mar-17-2022</td>\n",
       "    </tr>\n",
       "    <tr>\n",
       "      <th>235</th>\n",
       "      <td>031921_cohort 2 group 5 and group 6 mouse M3 c...</td>\n",
       "      <td>mouse M3 cage3A MHet Mar-20-2021</td>\n",
       "    </tr>\n",
       "    <tr>\n",
       "      <th>236</th>\n",
       "      <td>031921_cohort 2 group 5 and group 6 mouse M3 c...</td>\n",
       "      <td>mouse M3 cage3A MHet Mar-19-2021</td>\n",
       "    </tr>\n",
       "    <tr>\n",
       "      <th>237</th>\n",
       "      <td>031921_cohort 2 group 5 and group 6 mouse M3 c...</td>\n",
       "      <td>mouse M3 cage3A MHet Mar-22-2021</td>\n",
       "    </tr>\n",
       "    <tr>\n",
       "      <th>238</th>\n",
       "      <td>031921_cohort 2 group 5 and group 6 mouse M3 c...</td>\n",
       "      <td>mouse M3 cage3A MHet Mar-21-2021</td>\n",
       "    </tr>\n",
       "  </tbody>\n",
       "</table>\n",
       "<p>239 rows × 2 columns</p>\n",
       "</div>"
      ],
      "text/plain": [
       "                                                animal  \\\n",
       "0                  071321_Cohort 3_AM4_CF1_DF3_FF6 DF3   \n",
       "1                  071321_Cohort 3_AM4_CF1_DF3_FF6 DF3   \n",
       "2                  071321_Cohort 3_AM4_CF1_DF3_FF6 DF3   \n",
       "3                  071321_Cohort 3_AM4_CF1_DF3_FF6 DF3   \n",
       "4        031722_cohort_6_group1_3mice_MMUT_MMUT_MWT M7   \n",
       "..                                                 ...   \n",
       "234  031722_cohort_6_group1_3mice_MMUT_MMUT_MWT MMU...   \n",
       "235  031921_cohort 2 group 5 and group 6 mouse M3 c...   \n",
       "236  031921_cohort 2 group 5 and group 6 mouse M3 c...   \n",
       "237  031921_cohort 2 group 5 and group 6 mouse M3 c...   \n",
       "238  031921_cohort 2 group 5 and group 6 mouse M3 c...   \n",
       "\n",
       "                            animalday  \n",
       "0                 DF3 FWT Jul-15-2021  \n",
       "1                 DF3 FWT Jul-13-2021  \n",
       "2                 DF3 FWT Jul-14-2021  \n",
       "3                 DF3 FWT Jul-16-2021  \n",
       "4                  M7 MWT Mar-20-2022  \n",
       "..                                ...  \n",
       "234          MMUT(1) MMut Mar-17-2022  \n",
       "235  mouse M3 cage3A MHet Mar-20-2021  \n",
       "236  mouse M3 cage3A MHet Mar-19-2021  \n",
       "237  mouse M3 cage3A MHet Mar-22-2021  \n",
       "238  mouse M3 cage3A MHet Mar-21-2021  \n",
       "\n",
       "[239 rows x 2 columns]"
      ]
     },
     "metadata": {},
     "output_type": "display_data"
    }
   ],
   "source": [
    "logger.setLevel(logging.INFO)\n",
    "wars = []\n",
    "\n",
    "animal_ids = [p for p in Path(\"./test-wars-sox5-7\").glob(\"*\") if p.is_dir()]\n",
    "# bad_animal_ids = [\n",
    "#     \"013122_cohort4_group7_2mice both_FHET FHET(2)\",\n",
    "#     \"012322_cohort4_group6_3mice_FMUT___MMUT_MWT MHET\",\n",
    "#     \"012322_cohort4_group6_3mice_FMUT___MMUT_MWT MMUT\",\n",
    "#     \"011622_cohort4_group4_3mice_MMutOLD_FMUT_FMUT_FWT OLDMMT\",\n",
    "#     \"011322_cohort4_group3_4mice_AllM_MT_WT_HET_WT M3\",\n",
    "#     \"012322_cohort4_group6_3mice_FMUT___MMUT_MWT FHET\"\n",
    "#     # \"060921_Cohort 3_EM1_AM2_GF4 AM2\" # this seems fine just very high delta for whatever reason\n",
    "# ]\n",
    "\n",
    "# Create empty lists to store data\n",
    "df = []\n",
    "\n",
    "for i, animal_id in enumerate(animal_ids):\n",
    "    json_files = list(Path(animal_id).glob('*.json'))\n",
    "    if len(json_files) > 1:\n",
    "        print(f\"Multiple json files found for {animal_id}\")\n",
    "        break\n",
    "    json_file = json_files[0]\n",
    "\n",
    "    # Load the JSON file\n",
    "    with open(json_file, 'r') as f:\n",
    "        data = json.load(f)['bad_channels_dict']\n",
    "        for day in data.keys():\n",
    "            df.append({\"animal\" : animal_id.name, 'animalday' : day})\n",
    "\n",
    "# Create dataframe\n",
    "df = pd.DataFrame(df)\n",
    "\n",
    "display(df)\n"
   ]
  },
  {
   "cell_type": "code",
   "execution_count": 13,
   "metadata": {},
   "outputs": [
    {
     "data": {
      "text/plain": [
       "70"
      ]
     },
     "execution_count": 13,
     "metadata": {},
     "output_type": "execute_result"
    }
   ],
   "source": [
    "len(df['animal'].unique())"
   ]
  },
  {
   "cell_type": "code",
   "execution_count": 14,
   "metadata": {},
   "outputs": [
    {
     "data": {
      "text/plain": [
       "PosixPath('/home/dongjp/Downloads/8-4 fine filtering')"
      ]
     },
     "metadata": {},
     "output_type": "display_data"
    }
   ],
   "source": [
    "save_folder = '/home/dongjp/Downloads/8-4 fine filtering'\n",
    "save_files = True\n",
    "save_folder = Path(save_folder)\n",
    "if not os.path.exists(save_folder):\n",
    "    os.makedirs(save_folder)\n",
    "display(save_folder)"
   ]
  },
  {
   "cell_type": "code",
   "execution_count": 15,
   "metadata": {},
   "outputs": [],
   "source": [
    "df.to_excel(save_folder / f'{save_folder.name}.xlsx', index=False)"
   ]
  }
 ],
 "metadata": {
  "kernelspec": {
   "display_name": ".venv",
   "language": "python",
   "name": "python3"
  },
  "language_info": {
   "codemirror_mode": {
    "name": "ipython",
    "version": 3
   },
   "file_extension": ".py",
   "mimetype": "text/x-python",
   "name": "python",
   "nbconvert_exporter": "python",
   "pygments_lexer": "ipython3",
   "version": "3.10.8"
  }
 },
 "nbformat": 4,
 "nbformat_minor": 4
}

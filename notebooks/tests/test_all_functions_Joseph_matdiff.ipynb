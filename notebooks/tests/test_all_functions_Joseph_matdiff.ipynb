{
 "cells": [
  {
   "cell_type": "markdown",
   "metadata": {},
   "source": [
    "# Function Testing Notebook - Matrix Difference Plot\n",
    "\n",
    "This notebook is meant to test external-facing functions to ensure they are working as expected.\n",
    "\n",
    "A dedicated test_all_functions.py with unit testing might be better, but this is a good benchmark"
   ]
  },
  {
   "cell_type": "code",
   "execution_count": 1,
   "metadata": {},
   "outputs": [],
   "source": [
    "import os\n",
    "import sys\n",
    "from pathlib import Path\n",
    "import time\n",
    "import tempfile\n",
    "import logging\n",
    "\n",
    "import numpy as np\n",
    "import matplotlib.pyplot as plt\n",
    "import matplotlib.colors as colors\n",
    "import mne\n",
    "from dask_jobqueue import SLURMCluster\n",
    "from dask.distributed import Client, LocalCluster"
   ]
  },
  {
   "cell_type": "code",
   "execution_count": 2,
   "metadata": {},
   "outputs": [
    {
     "name": "stdout",
     "output_type": "stream",
     "text": [
      "/home/dongjp/source-code/PyEEG\n"
     ]
    },
    {
     "name": "stderr",
     "output_type": "stream",
     "text": [
      "/home/dongjp/source-code/PyEEG/.venv/lib/python3.10/site-packages/tqdm/auto.py:21: TqdmWarning: IProgress not found. Please update jupyter and ipywidgets. See https://ipywidgets.readthedocs.io/en/stable/user_install.html\n",
      "  from .autonotebook import tqdm as notebook_tqdm\n"
     ]
    },
    {
     "name": "stdout",
     "output_type": "stream",
     "text": [
      "['DDFBinaryMetadata', 'LongRecordingOrganizer', 'convert_ddfcolbin_to_ddfrowbin', 'convert_ddfrowbin_to_si', 'convert_units_to_multiplier', 'convert_colpath_to_rowpath', 'filepath_to_index', 'is_day', 'set_temp_directory', 'get_temp_directory', 'parse_path_to_animalday', 'parse_path_to_genotype', 'parse_path_to_animal', 'parse_path_to_day', 'parse_chname_to_abbrev', 'nanaverage', 'LongRecordingAnalyzer', 'MountainSortAnalyzer', 'FragmentAnalyzer']\n"
     ]
    }
   ],
   "source": [
    "# packageroot = Path('../../').resolve()\n",
    "packageroot = Path('/home/dongjp/source-code/PyEEG').resolve()\n",
    "print(packageroot)\n",
    "sys.path.append(str(packageroot))\n",
    "\n",
    "from pythoneeg import core\n",
    "from pythoneeg import visualization\n",
    "from pythoneeg import constants\n",
    "\n",
    "print(core.__all__)\n",
    "# print(visualization.__all__)\n",
    "# print(dir(constants))"
   ]
  },
  {
   "cell_type": "code",
   "execution_count": 3,
   "metadata": {},
   "outputs": [],
   "source": [
    "core.set_temp_directory('/scr1/users/dongjp')"
   ]
  },
  {
   "cell_type": "markdown",
   "metadata": {},
   "source": [
    "## Test WAR"
   ]
  },
  {
   "cell_type": "code",
   "execution_count": 4,
   "metadata": {},
   "outputs": [
    {
     "name": "stderr",
     "output_type": "stream",
     "text": [
      "WARNING:root:Intan Input (1)/PortC C-009 does not match name aliases. Assuming alias from number in channel name.\n",
      "WARNING:root:Intan Input (1)/PortC C-010 does not match name aliases. Assuming alias from number in channel name.\n",
      "WARNING:root:Intan Input (1)/PortC C-012 does not match name aliases. Assuming alias from number in channel name.\n",
      "WARNING:root:Intan Input (1)/PortC C-014 does not match name aliases. Assuming alias from number in channel name.\n",
      "WARNING:root:Intan Input (1)/PortC C-015 does not match name aliases. Assuming alias from number in channel name.\n",
      "WARNING:root:Intan Input (1)/PortC C-016 does not match name aliases. Assuming alias from number in channel name.\n",
      "WARNING:root:Intan Input (1)/PortC C-017 does not match name aliases. Assuming alias from number in channel name.\n",
      "WARNING:root:Intan Input (1)/PortC C-019 does not match name aliases. Assuming alias from number in channel name.\n",
      "WARNING:root:Intan Input (1)/PortC C-021 does not match name aliases. Assuming alias from number in channel name.\n",
      "WARNING:root:Intan Input (1)/PortC C-022 does not match name aliases. Assuming alias from number in channel name.\n",
      "WARNING:root:Intan Input (1)/PortC C-009 does not match name aliases. Assuming alias from number in channel name.\n",
      "WARNING:root:Intan Input (1)/PortC C-010 does not match name aliases. Assuming alias from number in channel name.\n",
      "WARNING:root:Intan Input (1)/PortC C-012 does not match name aliases. Assuming alias from number in channel name.\n",
      "WARNING:root:Intan Input (1)/PortC C-014 does not match name aliases. Assuming alias from number in channel name.\n",
      "WARNING:root:Intan Input (1)/PortC C-015 does not match name aliases. Assuming alias from number in channel name.\n",
      "WARNING:root:Intan Input (1)/PortC C-016 does not match name aliases. Assuming alias from number in channel name.\n",
      "WARNING:root:Intan Input (1)/PortC C-017 does not match name aliases. Assuming alias from number in channel name.\n",
      "WARNING:root:Intan Input (1)/PortC C-019 does not match name aliases. Assuming alias from number in channel name.\n",
      "WARNING:root:Intan Input (1)/PortC C-021 does not match name aliases. Assuming alias from number in channel name.\n",
      "WARNING:root:Intan Input (1)/PortC C-022 does not match name aliases. Assuming alias from number in channel name.\n"
     ]
    },
    {
     "name": "stdout",
     "output_type": "stream",
     "text": [
      "Channel names: \t['Intan Input (1)/PortC C-009', 'Intan Input (1)/PortC C-010', 'Intan Input (1)/PortC C-012', 'Intan Input (1)/PortC C-014', 'Intan Input (1)/PortC C-015', 'Intan Input (1)/PortC C-016', 'Intan Input (1)/PortC C-017', 'Intan Input (1)/PortC C-019', 'Intan Input (1)/PortC C-021', 'Intan Input (1)/PortC C-022']\n",
      "Channel abbreviations: \t['LAud', 'LVis', 'LHip', 'LBar', 'LMot', 'RMot', 'RBar', 'RHip', 'RVis', 'RAud']\n",
      "Channel names: \t['Intan Input (1)/PortC C-009', 'Intan Input (1)/PortC C-010', 'Intan Input (1)/PortC C-012', 'Intan Input (1)/PortC C-014', 'Intan Input (1)/PortC C-015', 'Intan Input (1)/PortC C-016', 'Intan Input (1)/PortC C-017', 'Intan Input (1)/PortC C-019', 'Intan Input (1)/PortC C-021', 'Intan Input (1)/PortC C-022']\n",
      "Channel abbreviations: \t['LAud', 'LVis', 'LHip', 'LBar', 'LMot', 'RMot', 'RBar', 'RHip', 'RVis', 'RAud']\n",
      "Opening raw data file test-sars/A10 KO Dec-13-2023/A10-KO-A10 KO Dec-13-2023-raw.fif...\n",
      "    Reading extended channel information\n",
      "Isotrak not found\n",
      "    Range : 0 ... 120359 =      0.000 ...   120.359 secs\n",
      "Ready.\n"
     ]
    },
    {
     "name": "stderr",
     "output_type": "stream",
     "text": [
      "WARNING:root:Intan Input (1)/PortC C-009 does not match name aliases. Assuming alias from number in channel name.\n",
      "WARNING:root:Intan Input (1)/PortC C-010 does not match name aliases. Assuming alias from number in channel name.\n",
      "WARNING:root:Intan Input (1)/PortC C-012 does not match name aliases. Assuming alias from number in channel name.\n",
      "WARNING:root:Intan Input (1)/PortC C-014 does not match name aliases. Assuming alias from number in channel name.\n",
      "WARNING:root:Intan Input (1)/PortC C-015 does not match name aliases. Assuming alias from number in channel name.\n",
      "WARNING:root:Intan Input (1)/PortC C-016 does not match name aliases. Assuming alias from number in channel name.\n",
      "WARNING:root:Intan Input (1)/PortC C-017 does not match name aliases. Assuming alias from number in channel name.\n",
      "WARNING:root:Intan Input (1)/PortC C-019 does not match name aliases. Assuming alias from number in channel name.\n",
      "WARNING:root:Intan Input (1)/PortC C-021 does not match name aliases. Assuming alias from number in channel name.\n",
      "WARNING:root:Intan Input (1)/PortC C-022 does not match name aliases. Assuming alias from number in channel name.\n"
     ]
    },
    {
     "name": "stdout",
     "output_type": "stream",
     "text": [
      "Used Annotations descriptions: [np.str_('Intan Input (1)/PortC C-009'), np.str_('Intan Input (1)/PortC C-010'), np.str_('Intan Input (1)/PortC C-014'), np.str_('Intan Input (1)/PortC C-016'), np.str_('Intan Input (1)/PortC C-017')]\n"
     ]
    },
    {
     "name": "stderr",
     "output_type": "stream",
     "text": [
      "WARNING:root:Channel Intan Input (1)/PortC C-012 not found in event_id\n",
      "WARNING:root:Channel Intan Input (1)/PortC C-015 not found in event_id\n",
      "WARNING:root:Channel Intan Input (1)/PortC C-019 not found in event_id\n",
      "WARNING:root:Channel Intan Input (1)/PortC C-021 not found in event_id\n",
      "WARNING:root:Channel Intan Input (1)/PortC C-022 not found in event_id\n",
      "WARNING:root:Intan Input (1)/PortD D-009 does not match name aliases. Assuming alias from number in channel name.\n",
      "WARNING:root:Intan Input (1)/PortD D-010 does not match name aliases. Assuming alias from number in channel name.\n",
      "WARNING:root:Intan Input (1)/PortD D-012 does not match name aliases. Assuming alias from number in channel name.\n",
      "WARNING:root:Intan Input (1)/PortD D-014 does not match name aliases. Assuming alias from number in channel name.\n",
      "WARNING:root:Intan Input (1)/PortD D-015 does not match name aliases. Assuming alias from number in channel name.\n",
      "WARNING:root:Intan Input (1)/PortD D-016 does not match name aliases. Assuming alias from number in channel name.\n",
      "WARNING:root:Intan Input (1)/PortD D-017 does not match name aliases. Assuming alias from number in channel name.\n",
      "WARNING:root:Intan Input (1)/PortD D-019 does not match name aliases. Assuming alias from number in channel name.\n",
      "WARNING:root:Intan Input (1)/PortD D-021 does not match name aliases. Assuming alias from number in channel name.\n",
      "WARNING:root:Intan Input (1)/PortD D-022 does not match name aliases. Assuming alias from number in channel name.\n"
     ]
    },
    {
     "name": "stdout",
     "output_type": "stream",
     "text": [
      "Channel names: \t['Intan Input (1)/PortD D-009', 'Intan Input (1)/PortD D-010', 'Intan Input (1)/PortD D-012', 'Intan Input (1)/PortD D-014', 'Intan Input (1)/PortD D-015', 'Intan Input (1)/PortD D-016', 'Intan Input (1)/PortD D-017', 'Intan Input (1)/PortD D-019', 'Intan Input (1)/PortD D-021', 'Intan Input (1)/PortD D-022']\n",
      "Channel abbreviations: \t['LAud', 'LVis', 'LHip', 'LBar', 'LMot', 'RMot', 'RBar', 'RHip', 'RVis', 'RAud']\n"
     ]
    },
    {
     "name": "stderr",
     "output_type": "stream",
     "text": [
      "WARNING:root:Intan Input (1)/PortD D-009 does not match name aliases. Assuming alias from number in channel name.\n",
      "WARNING:root:Intan Input (1)/PortD D-010 does not match name aliases. Assuming alias from number in channel name.\n",
      "WARNING:root:Intan Input (1)/PortD D-012 does not match name aliases. Assuming alias from number in channel name.\n",
      "WARNING:root:Intan Input (1)/PortD D-014 does not match name aliases. Assuming alias from number in channel name.\n",
      "WARNING:root:Intan Input (1)/PortD D-015 does not match name aliases. Assuming alias from number in channel name.\n",
      "WARNING:root:Intan Input (1)/PortD D-016 does not match name aliases. Assuming alias from number in channel name.\n",
      "WARNING:root:Intan Input (1)/PortD D-017 does not match name aliases. Assuming alias from number in channel name.\n",
      "WARNING:root:Intan Input (1)/PortD D-019 does not match name aliases. Assuming alias from number in channel name.\n",
      "WARNING:root:Intan Input (1)/PortD D-021 does not match name aliases. Assuming alias from number in channel name.\n",
      "WARNING:root:Intan Input (1)/PortD D-022 does not match name aliases. Assuming alias from number in channel name.\n"
     ]
    },
    {
     "name": "stdout",
     "output_type": "stream",
     "text": [
      "Channel names: \t['Intan Input (1)/PortD D-009', 'Intan Input (1)/PortD D-010', 'Intan Input (1)/PortD D-012', 'Intan Input (1)/PortD D-014', 'Intan Input (1)/PortD D-015', 'Intan Input (1)/PortD D-016', 'Intan Input (1)/PortD D-017', 'Intan Input (1)/PortD D-019', 'Intan Input (1)/PortD D-021', 'Intan Input (1)/PortD D-022']\n",
      "Channel abbreviations: \t['LAud', 'LVis', 'LHip', 'LBar', 'LMot', 'RMot', 'RBar', 'RHip', 'RVis', 'RAud']\n",
      "Opening raw data file test-sars/F22 KO Dec-12-2023/F22-KO-F22 KO Dec-12-2023-raw.fif...\n",
      "    Reading extended channel information\n",
      "Isotrak not found\n",
      "    Range : 0 ... 466439 =      0.000 ...   466.439 secs\n",
      "Ready.\n"
     ]
    },
    {
     "name": "stderr",
     "output_type": "stream",
     "text": [
      "WARNING:root:Intan Input (1)/PortD D-009 does not match name aliases. Assuming alias from number in channel name.\n",
      "WARNING:root:Intan Input (1)/PortD D-010 does not match name aliases. Assuming alias from number in channel name.\n",
      "WARNING:root:Intan Input (1)/PortD D-012 does not match name aliases. Assuming alias from number in channel name.\n",
      "WARNING:root:Intan Input (1)/PortD D-014 does not match name aliases. Assuming alias from number in channel name.\n",
      "WARNING:root:Intan Input (1)/PortD D-015 does not match name aliases. Assuming alias from number in channel name.\n",
      "WARNING:root:Intan Input (1)/PortD D-016 does not match name aliases. Assuming alias from number in channel name.\n",
      "WARNING:root:Intan Input (1)/PortD D-017 does not match name aliases. Assuming alias from number in channel name.\n",
      "WARNING:root:Intan Input (1)/PortD D-019 does not match name aliases. Assuming alias from number in channel name.\n",
      "WARNING:root:Intan Input (1)/PortD D-021 does not match name aliases. Assuming alias from number in channel name.\n",
      "WARNING:root:Intan Input (1)/PortD D-022 does not match name aliases. Assuming alias from number in channel name.\n"
     ]
    },
    {
     "name": "stdout",
     "output_type": "stream",
     "text": [
      "Used Annotations descriptions: [np.str_('Intan Input (1)/PortD D-009'), np.str_('Intan Input (1)/PortD D-010'), np.str_('Intan Input (1)/PortD D-012'), np.str_('Intan Input (1)/PortD D-014'), np.str_('Intan Input (1)/PortD D-015'), np.str_('Intan Input (1)/PortD D-016'), np.str_('Intan Input (1)/PortD D-017'), np.str_('Intan Input (1)/PortD D-019'), np.str_('Intan Input (1)/PortD D-021')]\n"
     ]
    },
    {
     "name": "stderr",
     "output_type": "stream",
     "text": [
      "WARNING:root:Channel Intan Input (1)/PortD D-022 not found in event_id\n"
     ]
    }
   ],
   "source": [
    "wars = []\n",
    "animal_ids = ['A10', 'F22']\n",
    "for animal_id in animal_ids:\n",
    "    # REVIEW consider making this process a single one-line function\n",
    "    war = visualization.WindowAnalysisResult.load_pickle_and_json(Path(f'./test-wars/{animal_id}').resolve())\n",
    "    war = war.filter_all()\n",
    "    wars.append(war)\n",
    "\n",
    "    sars = []\n",
    "    for path in Path('./test-sars/').glob(f'*{animal_id}*'):\n",
    "        sars.append(visualization.SpikeAnalysisResult.load_fif_and_json(path))\n",
    "    war.read_sars_spikes(sars, read_mode='mne')\n",
    "\n",
    "ep = visualization.ExperimentPlotter(wars)\n"
   ]
  },
  {
   "cell_type": "code",
   "execution_count": 5,
   "metadata": {},
   "outputs": [
    {
     "name": "stderr",
     "output_type": "stream",
     "text": [
      "/home/dongjp/source-code/PyEEG/pythoneeg/visualization/plotting/experiment.py:141: RuntimeWarning: Mean of empty slice\n",
      "  vals = np.nanmean(vals, axis=1)\n",
      "/home/dongjp/source-code/PyEEG/pythoneeg/visualization/plotting/experiment.py:141: RuntimeWarning: Mean of empty slice\n",
      "  vals = np.nanmean(vals, axis=1)\n"
     ]
    }
   ],
   "source": [
    "for feat in constants.LINEAR_FEATURE:\n",
    "    logging.info(f'pulling {feat}')\n",
    "    ep.pull_timeseries_dataframe(feat, ['genotype','animalday'])\n",
    "\n",
    "df2 = ep.pull_timeseries_dataframe('rms', ['genotype','animal'], collapse_channels=True)"
   ]
  },
  {
   "cell_type": "code",
   "execution_count": 6,
   "metadata": {},
   "outputs": [],
   "source": [
    "# g = ep.plot_catplot('psdband', ['animal'], \n",
    "#                     collapse_channels=False, hue='channel', col='band',\n",
    "#                     # stat_pairs='x',\n",
    "#                     # stat_pairs=[[('A10 KO Dec-13-2023', 'theta'), ('F22 KO Dec-12-2023', 'delta')]],\n",
    "#                     # stat_pairs=[[('F22', 'delta'), ('F22', 'theta')], [('F22', 'theta'), ('A10', 'theta')]], \n",
    "#                     # stat_pairs=[[('F22', 'delta'), ('F22', 'theta')], [('F22', 'theta'), ('A10', 'theta')]], \n",
    "#                     # stat_pairs=perms,\n",
    "#                     # stat_test='Brunner-Munzel',\n",
    "#                     # norm_test='log-D-Agostino',\n",
    "#                     )"
   ]
  },
  {
   "cell_type": "code",
   "execution_count": 7,
   "metadata": {},
   "outputs": [],
   "source": [
    "logging.basicConfig(format='%(asctime)s - %(levelname)s - %(message)s', level=logging.DEBUG, stream=sys.stdout, force=True)\n",
    "logger = logging.getLogger()"
   ]
  },
  {
   "cell_type": "code",
   "execution_count": 8,
   "metadata": {},
   "outputs": [
    {
     "name": "stdout",
     "output_type": "stream",
     "text": [
      "2025-04-09 13:59:18,580 - DEBUG - groups: [('KO', 'A10 KO Dec-13-2023'), ('KO', 'F22 KO Dec-12-2023')]\n",
      "2025-04-09 13:59:18,593 - DEBUG - vals.shape: (31, 5, 10, 10)\n",
      "2025-04-09 13:59:18,594 - DEBUG - vals.shape: (31, 5, 10, 10)\n"
     ]
    },
    {
     "name": "stdout",
     "output_type": "stream",
     "text": [
      "2025-04-09 13:59:18,601 - DEBUG - vals.shape: (117, 5, 10, 10)\n",
      "2025-04-09 13:59:18,602 - DEBUG - vals.shape: (117, 5, 10, 10)\n"
     ]
    },
    {
     "ename": "TypeError",
     "evalue": "df_subtract_baseline() missing 1 required positional argument: 'baseline_key'",
     "output_type": "error",
     "traceback": [
      "\u001b[0;31m---------------------------------------------------------------------------\u001b[0m",
      "\u001b[0;31mTypeError\u001b[0m                                 Traceback (most recent call last)",
      "Cell \u001b[0;32mIn[8], line 2\u001b[0m\n\u001b[1;32m      1\u001b[0m \u001b[38;5;66;03m# ep.plot_heatmap('cohere', 'genotype')\u001b[39;00m\n\u001b[0;32m----> 2\u001b[0m \u001b[43mep\u001b[49m\u001b[38;5;241;43m.\u001b[39;49m\u001b[43mplot_diffheatmap\u001b[49m\u001b[43m(\u001b[49m\u001b[38;5;124;43m'\u001b[39;49m\u001b[38;5;124;43mcohere\u001b[39;49m\u001b[38;5;124;43m'\u001b[39;49m\u001b[43m,\u001b[49m\u001b[43m \u001b[49m\u001b[43m[\u001b[49m\u001b[38;5;124;43m'\u001b[39;49m\u001b[38;5;124;43mgenotype\u001b[39;49m\u001b[38;5;124;43m'\u001b[39;49m\u001b[43m,\u001b[49m\u001b[43m \u001b[49m\u001b[38;5;124;43m'\u001b[39;49m\u001b[38;5;124;43manimalday\u001b[39;49m\u001b[38;5;124;43m'\u001b[39;49m\u001b[43m]\u001b[49m\u001b[43m,\u001b[49m\u001b[43m \u001b[49m\u001b[43mbaseline_key\u001b[49m\u001b[38;5;241;43m=\u001b[39;49m\u001b[43m(\u001b[49m\u001b[38;5;124;43m'\u001b[39;49m\u001b[38;5;124;43mdelta\u001b[39;49m\u001b[38;5;124;43m'\u001b[39;49m\u001b[43m,\u001b[49m\u001b[43m \u001b[49m\u001b[38;5;124;43m'\u001b[39;49m\u001b[38;5;124;43mA10 KO Dec-13-2023\u001b[39;49m\u001b[38;5;124;43m'\u001b[39;49m\u001b[43m)\u001b[49m\u001b[43m,\u001b[49m\u001b[43m \u001b[49m\u001b[43mcol\u001b[49m\u001b[38;5;241;43m=\u001b[39;49m\u001b[38;5;124;43m'\u001b[39;49m\u001b[38;5;124;43mband\u001b[39;49m\u001b[38;5;124;43m'\u001b[39;49m\u001b[43m)\u001b[49m\n\u001b[1;32m      3\u001b[0m \u001b[38;5;66;03m# df = ep.plot_diffheatmap('cohere', ['animalday', 'genotype'], baseline_key=('A10 KO Dec-13-2023', 'KO'))\u001b[39;00m\n",
      "File \u001b[0;32m~/source-code/PyEEG/pythoneeg/visualization/plotting/experiment.py:440\u001b[0m, in \u001b[0;36mExperimentPlotter.plot_diffheatmap\u001b[0;34m(self, feature, groupby, baseline_key, col, row, channels, collapse_channels, title, cmap, height, aspect)\u001b[0m\n\u001b[1;32m    437\u001b[0m     baseline_key \u001b[38;5;241m=\u001b[39m (baseline_key, )\n\u001b[1;32m    439\u001b[0m df \u001b[38;5;241m=\u001b[39m \u001b[38;5;28mself\u001b[39m\u001b[38;5;241m.\u001b[39mpull_timeseries_dataframe(feature, groupby, channels, collapse_channels)\n\u001b[0;32m--> 440\u001b[0m df \u001b[38;5;241m=\u001b[39m \u001b[43mdf_subtract_baseline\u001b[49m\u001b[43m(\u001b[49m\u001b[43mfeature\u001b[49m\u001b[43m,\u001b[49m\u001b[43m \u001b[49m\u001b[43mgroupby\u001b[49m\u001b[43m,\u001b[49m\u001b[43m \u001b[49m\u001b[43mbaseline_key\u001b[49m\u001b[43m)\u001b[49m\n\u001b[1;32m    442\u001b[0m \u001b[38;5;28;01mreturn\u001b[39;00m \u001b[38;5;66;03m# STUB remove\u001b[39;00m\n\u001b[1;32m    444\u001b[0m facet_vars \u001b[38;5;241m=\u001b[39m {\n\u001b[1;32m    445\u001b[0m     \u001b[38;5;124m'\u001b[39m\u001b[38;5;124mcol\u001b[39m\u001b[38;5;124m'\u001b[39m: groupby[\u001b[38;5;241m0\u001b[39m],\n\u001b[1;32m    446\u001b[0m     \u001b[38;5;124m'\u001b[39m\u001b[38;5;124mrow\u001b[39m\u001b[38;5;124m'\u001b[39m: groupby[\u001b[38;5;241m1\u001b[39m] \u001b[38;5;28;01mif\u001b[39;00m \u001b[38;5;28mlen\u001b[39m(groupby) \u001b[38;5;241m>\u001b[39m \u001b[38;5;241m1\u001b[39m \u001b[38;5;28;01melse\u001b[39;00m \u001b[38;5;28;01mNone\u001b[39;00m,\n\u001b[1;32m    447\u001b[0m     \u001b[38;5;124m'\u001b[39m\u001b[38;5;124mheight\u001b[39m\u001b[38;5;124m'\u001b[39m: height,\n\u001b[1;32m    448\u001b[0m     \u001b[38;5;124m'\u001b[39m\u001b[38;5;124maspect\u001b[39m\u001b[38;5;124m'\u001b[39m: aspect\n\u001b[1;32m    449\u001b[0m }\n",
      "\u001b[0;31mTypeError\u001b[0m: df_subtract_baseline() missing 1 required positional argument: 'baseline_key'"
     ]
    }
   ],
   "source": [
    "# ep.plot_heatmap('cohere', 'genotype')\n",
    "ep.plot_diffheatmap('cohere', ['genotype', 'animalday'], baseline_key=('delta', 'A10 KO Dec-13-2023'), col='band')\n",
    "# df = ep.plot_diffheatmap('cohere', ['animalday', 'genotype'], baseline_key=('A10 KO Dec-13-2023', 'KO'))\n"
   ]
  }
 ],
 "metadata": {
  "kernelspec": {
   "display_name": ".venv",
   "language": "python",
   "name": "python3"
  },
  "language_info": {
   "codemirror_mode": {
    "name": "ipython",
    "version": 3
   },
   "file_extension": ".py",
   "mimetype": "text/x-python",
   "name": "python",
   "nbconvert_exporter": "python",
   "pygments_lexer": "ipython3",
   "version": "3.10.8"
  }
 },
 "nbformat": 4,
 "nbformat_minor": 2
}

{
 "cells": [
  {
   "cell_type": "code",
   "execution_count": 10,
   "metadata": {},
   "outputs": [],
   "source": [
    "import numpy as np\n",
    "import pandas as pd\n",
    "\n",
    "metaPath = '/mnt/isilon/marsh_single_unit/PythonEEG Data Bins/GCG/1459_GCG_WT_Recordings (up to file 72)/1459GCGWT 0-72/080919cage3_GCG_WT_Recording-0_Meta.csv'\n",
    "binPath = '/mnt/isilon/marsh_single_unit/PythonEEG Data Bins/GCG/1459_GCG_WT_Recordings (up to file 72)/1459GCGWT 0-72/080919cage3_GCG_WT_Recording-0_ColMajor.bin'\n",
    "\n",
    "ddfPath = '/mnt/isilon/marsh_single_unit/PythonEEG Data/GCG/1502_GCG_EXP_Recordings/0-70.ddf/082319_1502_cage3_GCG_Recording-0.ddf'\n",
    "\n",
    "# Example assumptions — change based on your metadata\n",
    "dtype = np.float32         # Or int16, float64, etc.\n",
    "num_channels = 32\n",
    "bin_data = np.fromfile(binPath, dtype=dtype)\n",
    "\n",
    "meta_data = pd.read_csv(metaPath)\n",
    "num_channels = meta_data.shape[0]\n",
    "\n",
    "# Reshape if needed (e.g., samples × channels)\n",
    "data = bin_data.reshape(-1, num_channels)\n"
   ]
  },
  {
   "cell_type": "code",
   "execution_count": 1,
   "metadata": {},
   "outputs": [],
   "source": [
    "import numpy as np\n",
    "import pandas as pd\n",
    "import matplotlib.pyplot as plt\n",
    "\n",
    "# === Metadata Parameters ===\n",
    "bin_file = '/mnt/isilon/marsh_single_unit/PythonEEG Data/GCG/1502_GCG_EXP_Recordings/0-70.ddf/082319_1502_cage3_GCG_Recording-0.ddf'       # path to your binary file\n",
    "num_channels = 8           # number of EEG channels\n",
    "dtype = np.float32          # data type in the binary file\n",
    "\n",
    "# === Load binary data ===\n",
    "raw_data = np.fromfile(bin_file, dtype=dtype)\n",
    "\n",
    "# === Reshape into [samples, channels] ===\n",
    "# Each row = 1 time point, each column = 1 channel\n",
    "num_samples = raw_data.size // num_channels\n",
    "data = raw_data.reshape((num_samples, num_channels))\n",
    "\n",
    "# # === Optional: Plot first 5 seconds of channel 0 ===\n",
    "# sampling_rate = 2000  # adjust based on your data\n",
    "# seconds_to_plot = 5\n",
    "# samples_to_plot = sampling_rate * seconds_to_plot\n",
    "\n",
    "# plt.plot(data[:samples_to_plot, 0])\n",
    "# plt.title(\"Channel 0 (first 5 seconds)\")\n",
    "# plt.xlabel(\"Time (samples)\")\n",
    "# plt.ylabel(\"Amplitude\")\n",
    "# plt.grid()\n",
    "# plt.show()\n"
   ]
  },
  {
   "cell_type": "code",
   "execution_count": 9,
   "metadata": {},
   "outputs": [
    {
     "data": {
      "text/plain": [
       "8"
      ]
     },
     "execution_count": 9,
     "metadata": {},
     "output_type": "execute_result"
    }
   ],
   "source": [
    "meta_data.shape[0]"
   ]
  }
 ],
 "metadata": {
  "kernelspec": {
   "display_name": ".venv",
   "language": "python",
   "name": "python3"
  },
  "language_info": {
   "codemirror_mode": {
    "name": "ipython",
    "version": 3
   },
   "file_extension": ".py",
   "mimetype": "text/x-python",
   "name": "python",
   "nbconvert_exporter": "python",
   "pygments_lexer": "ipython3",
   "version": "3.10.8"
  }
 },
 "nbformat": 4,
 "nbformat_minor": 2
}

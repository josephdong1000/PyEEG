{
 "cells": [
  {
   "cell_type": "markdown",
   "metadata": {},
   "source": [
    "# Function Testing Notebook\n",
    "\n",
    "This notebook is meant to test external-facing functions to ensure they are working as expected."
   ]
  },
  {
   "cell_type": "code",
   "execution_count": 1,
   "metadata": {},
   "outputs": [
    {
     "name": "stdout",
     "output_type": "stream",
     "text": [
      "/mnt/isilon/marsh_single_unit/PythonEEG\n"
     ]
    }
   ],
   "source": [
    "import sys\n",
    "from pathlib import Path\n",
    "\n",
    "packageroot = Path('../../').resolve()\n",
    "print(packageroot)\n",
    "sys.path.append(str(packageroot))\n"
   ]
  },
  {
   "cell_type": "code",
   "execution_count": 2,
   "metadata": {},
   "outputs": [
    {
     "name": "stderr",
     "output_type": "stream",
     "text": [
      "/mnt/isilon/marsh_single_unit/PythonEEG/.venv-linux-3.10/lib/python3.10/site-packages/tqdm/auto.py:21: TqdmWarning: IProgress not found. Please update jupyter and ipywidgets. See https://ipywidgets.readthedocs.io/en/stable/user_install.html\n",
      "  from .autonotebook import tqdm as notebook_tqdm\n"
     ]
    },
    {
     "name": "stdout",
     "output_type": "stream",
     "text": [
      "['DDFBinaryMetadata', 'LongRecordingOrganizer', 'convert_ddfcolbin_to_ddfrowbin', 'convert_ddfrowbin_to_si', 'convert_units_to_multiplier', 'convert_colpath_to_rowpath', 'filepath_to_index', 'LongRecordingAnalyzer', 'MountainSortOrganizer']\n"
     ]
    }
   ],
   "source": [
    "from pythoneeg import core\n",
    "# from pythoneeg import visualization\n",
    "# from pythoneeg import constants\n",
    "\n",
    "print(core.__all__)\n",
    "# print(visualization.__all__)\n",
    "# print(dir(constants))"
   ]
  },
  {
   "cell_type": "code",
   "execution_count": 3,
   "metadata": {},
   "outputs": [
    {
     "name": "stdout",
     "output_type": "stream",
     "text": [
      "Tue Dec 12 12:57:00 2023\n"
     ]
    },
    {
     "data": {
      "text/plain": [
       "['Intan Input (1)/PortB L Aud Ctx',\n",
       " 'Intan Input (1)/PortB L Vis Ctx',\n",
       " 'Intan Input (1)/PortB L Hipp',\n",
       " 'Intan Input (1)/PortB L Barrel',\n",
       " 'Intan Input (1)/PortB L Motor',\n",
       " 'Intan Input (1)/PortB R Motor',\n",
       " 'Intan Input (1)/PortB R Barrel',\n",
       " 'Intan Input (1)/PortB R Hipp',\n",
       " 'Intan Input (1)/PortB R Vis Ctx',\n",
       " 'Intan Input (1)/PortB R Aud Ctx']"
      ]
     },
     "metadata": {},
     "output_type": "display_data"
    }
   ],
   "source": [
    "tmpmet = core.DDFBinaryMetadata(r\"/mnt/isilon/marsh_single_unit/PythonEEG Data Bins/A5 WT 12_12-2023/Cage 1 A5 -1_Meta.csv\")\n",
    "print(tmpmet.dt_end.ctime())\n",
    "display(tmpmet.channel_names)"
   ]
  },
  {
   "cell_type": "code",
   "execution_count": null,
   "metadata": {},
   "outputs": [
    {
     "name": "stderr",
     "output_type": "stream",
     "text": [
      "/mnt/isilon/marsh_single_unit/PythonEEG/pythoneeg/core/core.py:168: UserWarning: truncate = True. Only the first 5 files of each animal will be used\n",
      "  warnings.warn(f\"truncate = True. Only the first {self.n_truncate} files of each animal will be used\")\n",
      "/mnt/isilon/marsh_single_unit/PythonEEG/pythoneeg/core/core.py:254: UserWarning: Row-major binary files already exist! Skipping existing files\n",
      "  warnings.warn(\"Row-major binary files already exist! Skipping existing files\")\n"
     ]
    },
    {
     "name": "stdout",
     "output_type": "stream",
     "text": [
      "Reading /mnt/isilon/marsh_single_unit/PythonEEG/notebooks/tests/data/A5 WT 12_12-2023/Cage 1 A5 -1_RowMajor.npy.gz\n",
      "Opening tempfile /tmp/47e21c74d2d756b32221864f09ebb1e4803dcf7d9c34ad0c\n",
      "Reading /mnt/isilon/marsh_single_unit/PythonEEG/notebooks/tests/data/A5 WT 12_12-2023/Cage 1 A5 -3_RowMajor.npy.gz\n",
      "Opening tempfile /tmp/a04295ce88b11e13a0d14f2d5f382957cf95dd989963edb2\n",
      "Reading /mnt/isilon/marsh_single_unit/PythonEEG/notebooks/tests/data/A5 WT 12_12-2023/Cage 1 A5 -4_RowMajor.npy.gz\n",
      "Opening tempfile /tmp/f879a1fb47735ce7d3961b388cc21b095eac8ebf5fd6eecf\n",
      "Reading /mnt/isilon/marsh_single_unit/PythonEEG/notebooks/tests/data/A5 WT 12_12-2023/Cage 1 A5 -5_RowMajor.npy.gz\n",
      "Opening tempfile /tmp/bd62fb84c0d9c79334a1731a2b9c8137f07a95eea1f2573e\n",
      "Reading /mnt/isilon/marsh_single_unit/PythonEEG/notebooks/tests/data/A5 WT 12_12-2023/Cage 1 A5 -6_RowMajor.npy.gz\n",
      "Opening tempfile /tmp/6cdb72a5ce0b8a797682097934a24a24498a24e446db6b8c\n"
     ]
    }
   ],
   "source": [
    "data_folder = Path('./test-data').resolve()\n",
    "lrec = core.LongRecordingOrganizer(base_folder_path= data_folder / 'A5 WT 12_12-2023',\n",
    "                                    truncate=5)\n",
    "lrec.convert_colbins_to_rowbins(overwrite=False)\n",
    "lrec.convert_rowbins_to_rec()"
   ]
  }
 ],
 "metadata": {
  "kernelspec": {
   "display_name": ".venv-linux-3.10",
   "language": "python",
   "name": "python3"
  },
  "language_info": {
   "codemirror_mode": {
    "name": "ipython",
    "version": 3
   },
   "file_extension": ".py",
   "mimetype": "text/x-python",
   "name": "python",
   "nbconvert_exporter": "python",
   "pygments_lexer": "ipython3",
   "version": "3.10.8"
  }
 },
 "nbformat": 4,
 "nbformat_minor": 2
}

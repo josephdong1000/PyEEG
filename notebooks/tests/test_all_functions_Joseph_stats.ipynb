{
 "cells": [
  {
   "cell_type": "markdown",
   "metadata": {},
   "source": [
    "# Function Testing Notebook - Matrix Difference Plot\n",
    "\n",
    "This notebook is meant to test external-facing functions to ensure they are working as expected.\n",
    "\n",
    "A dedicated test_all_functions.py with unit testing might be better, but this is a good benchmark"
   ]
  },
  {
   "cell_type": "code",
   "execution_count": 1,
   "metadata": {},
   "outputs": [],
   "source": [
    "import os\n",
    "import sys\n",
    "from pathlib import Path\n",
    "import time\n",
    "import tempfile\n",
    "import logging\n",
    "\n",
    "import numpy as np\n",
    "import matplotlib.pyplot as plt\n",
    "import matplotlib.colors as colors\n",
    "import mne\n",
    "from dask_jobqueue import SLURMCluster\n",
    "from dask.distributed import Client, LocalCluster"
   ]
  },
  {
   "cell_type": "code",
   "execution_count": 2,
   "metadata": {},
   "outputs": [
    {
     "name": "stdout",
     "output_type": "stream",
     "text": [
      "C:\\Users\\User\\source-code\\PyEEG\n"
     ]
    },
    {
     "name": "stderr",
     "output_type": "stream",
     "text": [
      "c:\\Users\\User\\source-code\\PyEEG\\.venv\\lib\\site-packages\\tqdm\\auto.py:21: TqdmWarning: IProgress not found. Please update jupyter and ipywidgets. See https://ipywidgets.readthedocs.io/en/stable/user_install.html\n",
      "  from .autonotebook import tqdm as notebook_tqdm\n"
     ]
    },
    {
     "name": "stdout",
     "output_type": "stream",
     "text": [
      "['DDFBinaryMetadata', 'LongRecordingOrganizer', 'convert_ddfcolbin_to_ddfrowbin', 'convert_ddfrowbin_to_si', 'convert_units_to_multiplier', 'convert_colpath_to_rowpath', 'filepath_to_index', 'is_day', 'set_temp_directory', 'get_temp_directory', 'parse_path_to_animalday', 'parse_path_to_genotype', 'parse_path_to_animal', 'parse_path_to_day', 'parse_chname_to_abbrev', 'nanaverage', 'LongRecordingAnalyzer', 'MountainSortAnalyzer', 'FragmentAnalyzer']\n"
     ]
    }
   ],
   "source": [
    "packageroot = Path('../../').resolve()\n",
    "# packageroot = Path('/home/dongjp/source-code/PyEEG').resolve()\n",
    "print(packageroot)\n",
    "sys.path.append(str(packageroot))\n",
    "\n",
    "from pythoneeg import core\n",
    "from pythoneeg import visualization\n",
    "from pythoneeg import constants\n",
    "\n",
    "print(core.__all__)\n",
    "# print(visualization.__all__)\n",
    "# print(dir(constants))"
   ]
  },
  {
   "cell_type": "code",
   "execution_count": 3,
   "metadata": {},
   "outputs": [
    {
     "data": {
      "text/plain": [
       "WindowsPath('C:/Users/User/source-code/PyEEG/tmp')"
      ]
     },
     "execution_count": 3,
     "metadata": {},
     "output_type": "execute_result"
    }
   ],
   "source": [
    "# core.set_temp_directory('/scr1/users/dongjp')\n",
    "core.set_temp_directory(Path('../../tmp/').resolve())\n",
    "core.get_temp_directory()"
   ]
  },
  {
   "cell_type": "markdown",
   "metadata": {},
   "source": [
    "## Test WAR"
   ]
  },
  {
   "cell_type": "code",
   "execution_count": 4,
   "metadata": {},
   "outputs": [
    {
     "name": "stderr",
     "output_type": "stream",
     "text": [
      "WARNING:root:Intan Input (1)/PortC C-009 does not match name aliases. Assuming alias from number in channel name.\n",
      "WARNING:root:Intan Input (1)/PortC C-010 does not match name aliases. Assuming alias from number in channel name.\n",
      "WARNING:root:Intan Input (1)/PortC C-012 does not match name aliases. Assuming alias from number in channel name.\n",
      "WARNING:root:Intan Input (1)/PortC C-014 does not match name aliases. Assuming alias from number in channel name.\n",
      "WARNING:root:Intan Input (1)/PortC C-015 does not match name aliases. Assuming alias from number in channel name.\n",
      "WARNING:root:Intan Input (1)/PortC C-016 does not match name aliases. Assuming alias from number in channel name.\n",
      "WARNING:root:Intan Input (1)/PortC C-017 does not match name aliases. Assuming alias from number in channel name.\n",
      "WARNING:root:Intan Input (1)/PortC C-019 does not match name aliases. Assuming alias from number in channel name.\n",
      "WARNING:root:Intan Input (1)/PortC C-021 does not match name aliases. Assuming alias from number in channel name.\n",
      "WARNING:root:Intan Input (1)/PortC C-022 does not match name aliases. Assuming alias from number in channel name.\n",
      "WARNING:root:Intan Input (1)/PortC C-009 does not match name aliases. Assuming alias from number in channel name.\n",
      "WARNING:root:Intan Input (1)/PortC C-010 does not match name aliases. Assuming alias from number in channel name.\n",
      "WARNING:root:Intan Input (1)/PortC C-012 does not match name aliases. Assuming alias from number in channel name.\n",
      "WARNING:root:Intan Input (1)/PortC C-014 does not match name aliases. Assuming alias from number in channel name.\n",
      "WARNING:root:Intan Input (1)/PortC C-015 does not match name aliases. Assuming alias from number in channel name.\n",
      "WARNING:root:Intan Input (1)/PortC C-016 does not match name aliases. Assuming alias from number in channel name.\n",
      "WARNING:root:Intan Input (1)/PortC C-017 does not match name aliases. Assuming alias from number in channel name.\n",
      "WARNING:root:Intan Input (1)/PortC C-019 does not match name aliases. Assuming alias from number in channel name.\n",
      "WARNING:root:Intan Input (1)/PortC C-021 does not match name aliases. Assuming alias from number in channel name.\n",
      "WARNING:root:Intan Input (1)/PortC C-022 does not match name aliases. Assuming alias from number in channel name.\n",
      "WARNING:root:Intan Input (1)/PortD D-009 does not match name aliases. Assuming alias from number in channel name.\n",
      "WARNING:root:Intan Input (1)/PortD D-010 does not match name aliases. Assuming alias from number in channel name.\n",
      "WARNING:root:Intan Input (1)/PortD D-012 does not match name aliases. Assuming alias from number in channel name.\n",
      "WARNING:root:Intan Input (1)/PortD D-014 does not match name aliases. Assuming alias from number in channel name.\n",
      "WARNING:root:Intan Input (1)/PortD D-015 does not match name aliases. Assuming alias from number in channel name.\n",
      "WARNING:root:Intan Input (1)/PortD D-016 does not match name aliases. Assuming alias from number in channel name.\n",
      "WARNING:root:Intan Input (1)/PortD D-017 does not match name aliases. Assuming alias from number in channel name.\n",
      "WARNING:root:Intan Input (1)/PortD D-019 does not match name aliases. Assuming alias from number in channel name.\n",
      "WARNING:root:Intan Input (1)/PortD D-021 does not match name aliases. Assuming alias from number in channel name.\n",
      "WARNING:root:Intan Input (1)/PortD D-022 does not match name aliases. Assuming alias from number in channel name.\n",
      "WARNING:root:Intan Input (1)/PortD D-009 does not match name aliases. Assuming alias from number in channel name.\n",
      "WARNING:root:Intan Input (1)/PortD D-010 does not match name aliases. Assuming alias from number in channel name.\n",
      "WARNING:root:Intan Input (1)/PortD D-012 does not match name aliases. Assuming alias from number in channel name.\n",
      "WARNING:root:Intan Input (1)/PortD D-014 does not match name aliases. Assuming alias from number in channel name.\n",
      "WARNING:root:Intan Input (1)/PortD D-015 does not match name aliases. Assuming alias from number in channel name.\n",
      "WARNING:root:Intan Input (1)/PortD D-016 does not match name aliases. Assuming alias from number in channel name.\n",
      "WARNING:root:Intan Input (1)/PortD D-017 does not match name aliases. Assuming alias from number in channel name.\n",
      "WARNING:root:Intan Input (1)/PortD D-019 does not match name aliases. Assuming alias from number in channel name.\n",
      "WARNING:root:Intan Input (1)/PortD D-021 does not match name aliases. Assuming alias from number in channel name.\n",
      "WARNING:root:Intan Input (1)/PortD D-022 does not match name aliases. Assuming alias from number in channel name.\n"
     ]
    },
    {
     "name": "stdout",
     "output_type": "stream",
     "text": [
      "Channel names: \t['Intan Input (1)/PortC C-009', 'Intan Input (1)/PortC C-010', 'Intan Input (1)/PortC C-012', 'Intan Input (1)/PortC C-014', 'Intan Input (1)/PortC C-015', 'Intan Input (1)/PortC C-016', 'Intan Input (1)/PortC C-017', 'Intan Input (1)/PortC C-019', 'Intan Input (1)/PortC C-021', 'Intan Input (1)/PortC C-022']\n",
      "Channel abbreviations: \t['LAud', 'LVis', 'LHip', 'LBar', 'LMot', 'RMot', 'RBar', 'RHip', 'RVis', 'RAud']\n",
      "Channel names: \t['Intan Input (1)/PortC C-009', 'Intan Input (1)/PortC C-010', 'Intan Input (1)/PortC C-012', 'Intan Input (1)/PortC C-014', 'Intan Input (1)/PortC C-015', 'Intan Input (1)/PortC C-016', 'Intan Input (1)/PortC C-017', 'Intan Input (1)/PortC C-019', 'Intan Input (1)/PortC C-021', 'Intan Input (1)/PortC C-022']\n",
      "Channel abbreviations: \t['LAud', 'LVis', 'LHip', 'LBar', 'LMot', 'RMot', 'RBar', 'RHip', 'RVis', 'RAud']\n",
      "Channel names: \t['Intan Input (1)/PortD D-009', 'Intan Input (1)/PortD D-010', 'Intan Input (1)/PortD D-012', 'Intan Input (1)/PortD D-014', 'Intan Input (1)/PortD D-015', 'Intan Input (1)/PortD D-016', 'Intan Input (1)/PortD D-017', 'Intan Input (1)/PortD D-019', 'Intan Input (1)/PortD D-021', 'Intan Input (1)/PortD D-022']\n",
      "Channel abbreviations: \t['LAud', 'LVis', 'LHip', 'LBar', 'LMot', 'RMot', 'RBar', 'RHip', 'RVis', 'RAud']\n",
      "Channel names: \t['Intan Input (1)/PortD D-009', 'Intan Input (1)/PortD D-010', 'Intan Input (1)/PortD D-012', 'Intan Input (1)/PortD D-014', 'Intan Input (1)/PortD D-015', 'Intan Input (1)/PortD D-016', 'Intan Input (1)/PortD D-017', 'Intan Input (1)/PortD D-019', 'Intan Input (1)/PortD D-021', 'Intan Input (1)/PortD D-022']\n",
      "Channel abbreviations: \t['LAud', 'LVis', 'LHip', 'LBar', 'LMot', 'RMot', 'RBar', 'RHip', 'RVis', 'RAud']\n"
     ]
    }
   ],
   "source": [
    "wars = []\n",
    "animal_ids = ['A10', 'F22']\n",
    "for animal_id in animal_ids:\n",
    "    # REVIEW consider making this process a single one-line function\n",
    "    war = visualization.WindowAnalysisResult.load_pickle_and_json(Path(f'./test-wars/{animal_id}').resolve())\n",
    "    war = war.filter_all()\n",
    "    wars.append(war)\n",
    "\n",
    "    # sars = []\n",
    "    # for path in Path('./test-sars/').glob(f'*{animal_id}*'):\n",
    "    #     sars.append(visualization.SpikeAnalysisResult.load_fif_and_json(path))\n",
    "    # war.read_sars_spikes(sars, read_mode='mne')\n",
    "\n",
    "ep = visualization.ExperimentPlotter(wars, exclude=['nspike'])\n"
   ]
  },
  {
   "cell_type": "code",
   "execution_count": 6,
   "metadata": {},
   "outputs": [
    {
     "name": "stderr",
     "output_type": "stream",
     "text": [
      "C:\\Users\\User\\source-code\\PyEEG\\pythoneeg\\visualization\\plotting\\experiment.py:141: RuntimeWarning: Mean of empty slice\n",
      "  vals = np.nanmean(vals, axis=1)\n",
      "C:\\Users\\User\\source-code\\PyEEG\\pythoneeg\\visualization\\plotting\\experiment.py:141: RuntimeWarning: Mean of empty slice\n",
      "  vals = np.nanmean(vals, axis=1)\n"
     ]
    },
    {
     "data": {
      "text/html": [
       "<div>\n",
       "<style scoped>\n",
       "    .dataframe tbody tr th:only-of-type {\n",
       "        vertical-align: middle;\n",
       "    }\n",
       "\n",
       "    .dataframe tbody tr th {\n",
       "        vertical-align: top;\n",
       "    }\n",
       "\n",
       "    .dataframe thead th {\n",
       "        text-align: right;\n",
       "    }\n",
       "</style>\n",
       "<table border=\"1\" class=\"dataframe\">\n",
       "  <thead>\n",
       "    <tr style=\"text-align: right;\">\n",
       "      <th></th>\n",
       "      <th>genotype</th>\n",
       "      <th>animal</th>\n",
       "      <th>channel</th>\n",
       "      <th>rms</th>\n",
       "    </tr>\n",
       "  </thead>\n",
       "  <tbody>\n",
       "    <tr>\n",
       "      <th>0</th>\n",
       "      <td>KO</td>\n",
       "      <td>A10</td>\n",
       "      <td>average</td>\n",
       "      <td>64.171073</td>\n",
       "    </tr>\n",
       "    <tr>\n",
       "      <th>1</th>\n",
       "      <td>KO</td>\n",
       "      <td>A10</td>\n",
       "      <td>average</td>\n",
       "      <td>68.034322</td>\n",
       "    </tr>\n",
       "    <tr>\n",
       "      <th>2</th>\n",
       "      <td>KO</td>\n",
       "      <td>A10</td>\n",
       "      <td>average</td>\n",
       "      <td>72.459282</td>\n",
       "    </tr>\n",
       "    <tr>\n",
       "      <th>3</th>\n",
       "      <td>KO</td>\n",
       "      <td>A10</td>\n",
       "      <td>average</td>\n",
       "      <td>66.441272</td>\n",
       "    </tr>\n",
       "    <tr>\n",
       "      <th>4</th>\n",
       "      <td>KO</td>\n",
       "      <td>A10</td>\n",
       "      <td>average</td>\n",
       "      <td>69.594782</td>\n",
       "    </tr>\n",
       "    <tr>\n",
       "      <th>...</th>\n",
       "      <td>...</td>\n",
       "      <td>...</td>\n",
       "      <td>...</td>\n",
       "      <td>...</td>\n",
       "    </tr>\n",
       "    <tr>\n",
       "      <th>143</th>\n",
       "      <td>KO</td>\n",
       "      <td>F22</td>\n",
       "      <td>average</td>\n",
       "      <td>232.900158</td>\n",
       "    </tr>\n",
       "    <tr>\n",
       "      <th>144</th>\n",
       "      <td>KO</td>\n",
       "      <td>F22</td>\n",
       "      <td>average</td>\n",
       "      <td>NaN</td>\n",
       "    </tr>\n",
       "    <tr>\n",
       "      <th>145</th>\n",
       "      <td>KO</td>\n",
       "      <td>F22</td>\n",
       "      <td>average</td>\n",
       "      <td>307.385394</td>\n",
       "    </tr>\n",
       "    <tr>\n",
       "      <th>146</th>\n",
       "      <td>KO</td>\n",
       "      <td>F22</td>\n",
       "      <td>average</td>\n",
       "      <td>310.215774</td>\n",
       "    </tr>\n",
       "    <tr>\n",
       "      <th>147</th>\n",
       "      <td>KO</td>\n",
       "      <td>F22</td>\n",
       "      <td>average</td>\n",
       "      <td>392.974642</td>\n",
       "    </tr>\n",
       "  </tbody>\n",
       "</table>\n",
       "<p>148 rows × 4 columns</p>\n",
       "</div>"
      ],
      "text/plain": [
       "    genotype animal  channel         rms\n",
       "0         KO    A10  average   64.171073\n",
       "1         KO    A10  average   68.034322\n",
       "2         KO    A10  average   72.459282\n",
       "3         KO    A10  average   66.441272\n",
       "4         KO    A10  average   69.594782\n",
       "..       ...    ...      ...         ...\n",
       "143       KO    F22  average  232.900158\n",
       "144       KO    F22  average         NaN\n",
       "145       KO    F22  average  307.385394\n",
       "146       KO    F22  average  310.215774\n",
       "147       KO    F22  average  392.974642\n",
       "\n",
       "[148 rows x 4 columns]"
      ]
     },
     "metadata": {},
     "output_type": "display_data"
    }
   ],
   "source": [
    "for feat in constants.LINEAR_FEATURE:\n",
    "    if feat == 'nspike':\n",
    "        logging.info(\"skipping nspike\")\n",
    "        continue\n",
    "    logging.info(f'pulling {feat}')\n",
    "    ep.pull_timeseries_dataframe(feat, ['genotype','animalday'])\n",
    "\n",
    "df2 = ep.pull_timeseries_dataframe('rms', ['genotype','animal'], collapse_channels=True)\n",
    "display(df2)"
   ]
  }
 ],
 "metadata": {
  "kernelspec": {
   "display_name": ".venv",
   "language": "python",
   "name": "python3"
  },
  "language_info": {
   "codemirror_mode": {
    "name": "ipython",
    "version": 3
   },
   "file_extension": ".py",
   "mimetype": "text/x-python",
   "name": "python",
   "nbconvert_exporter": "python",
   "pygments_lexer": "ipython3",
   "version": "3.10.8"
  }
 },
 "nbformat": 4,
 "nbformat_minor": 2
}
